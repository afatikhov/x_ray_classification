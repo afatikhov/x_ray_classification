{
 "cells": [
  {
   "cell_type": "markdown",
   "id": "4c63512c",
   "metadata": {},
   "source": [
    "# Классификации рентгеновских снимков "
   ]
  },
  {
   "cell_type": "markdown",
   "id": "f8ade71a",
   "metadata": {},
   "source": [
    "Данный проект является тестовым заданием от Радиокомпании Вектор"
   ]
  },
  {
   "cell_type": "markdown",
   "id": "94a4fbbb",
   "metadata": {},
   "source": [
    " Выполнил Фатихов Артур"
   ]
  },
  {
   "cell_type": "markdown",
   "id": "df3b6663",
   "metadata": {},
   "source": [
    "## Оглавление\n",
    "1. Введение\n",
    "2. Обработка и визуализация данных"
   ]
  },
  {
   "cell_type": "markdown",
   "id": "d8fd8d46",
   "metadata": {},
   "source": [
    "## 1. Введение"
   ]
  },
  {
   "cell_type": "markdown",
   "id": "bda010e9",
   "metadata": {},
   "source": [
    "В данном Jupyter-notebook я создам модель для классификации изображений рентгеновских снимков, а именно разделение их на три категории:\n",
    "- фронтальная проекция(front)\n",
    "- боковые проекции(lateral)\n",
    "- снимки, содержащие иные проекции и органы(trash)"
   ]
  },
  {
   "cell_type": "markdown",
   "id": "6be7585c",
   "metadata": {},
   "source": [
    "### Контент"
   ]
  },
  {
   "cell_type": "markdown",
   "id": "1e7af77c",
   "metadata": {},
   "source": [
    "Датасет для создания модели состоит из 2 частей: Train и Validation"
   ]
  },
  {
   "cell_type": "markdown",
   "id": "b42fe7f3",
   "metadata": {},
   "source": [
    "Датасет Train (находится в соответствующей папке) состоит из 4188 РГ снимков формата PNG, разбитых на подвыборки. Данный датасет предназначен для обучения классификатора.\n",
    "Класс «FRONTAL» (находится в соответствующей папке) датасета Train состоит из 1399 снимков во фронтальной проекции.\n",
    "Класс «LATERAL» (находится в соответствующей папке) датасета Train состоит из 1400 снимков в боковой проекции.\n",
    "Класс «TRASH» (находится в соответствующей папке) датасета Train состоит из 1389 снимков, содержащих иные проекции и органы.\n",
    " \n",
    "\n",
    "Датасет Validation состоит из 1000 РГ изображений формата PNG.\n",
    "Класс «FRONTAL» (находится в соответствующей папке) датасета Validation состоит из 330 снимков во фронтальной проекции.\n",
    "Класс «LATERAL» (находится в соответствующей папке) датасета Validation состоит из 330 снимков в боковой проекции.\n",
    "Класс «TRASH» (находится в соответствующей папке) датасета Validation состоит из 340 снимков, содержащих иные проекции и органы.\n",
    "Датасет Validation предназначен для открытой валидации классификатора, снимки из данного датасета не принимают участие в обучении."
   ]
  },
  {
   "cell_type": "markdown",
   "id": "1ce8adf6",
   "metadata": {},
   "source": [
    "Наша цель создать модель, которая будет предугадывать к какому из трех классов относится изображение, которое мы пропускаем через нашу модель"
   ]
  },
  {
   "cell_type": "markdown",
   "id": "a4b54d97",
   "metadata": {},
   "source": [
    "Импортируем все необходимые библиотеки"
   ]
  },
  {
   "cell_type": "code",
   "execution_count": 2,
   "id": "4be1fea4",
   "metadata": {},
   "outputs": [
    {
     "name": "stderr",
     "output_type": "stream",
     "text": [
      "2024-03-15 05:44:02.365948: I tensorflow/core/util/port.cc:113] oneDNN custom operations are on. You may see slightly different numerical results due to floating-point round-off errors from different computation orders. To turn them off, set the environment variable `TF_ENABLE_ONEDNN_OPTS=0`.\n",
      "2024-03-15 05:44:02.385144: E external/local_xla/xla/stream_executor/cuda/cuda_dnn.cc:9261] Unable to register cuDNN factory: Attempting to register factory for plugin cuDNN when one has already been registered\n",
      "2024-03-15 05:44:02.385162: E external/local_xla/xla/stream_executor/cuda/cuda_fft.cc:607] Unable to register cuFFT factory: Attempting to register factory for plugin cuFFT when one has already been registered\n",
      "2024-03-15 05:44:02.386093: E external/local_xla/xla/stream_executor/cuda/cuda_blas.cc:1515] Unable to register cuBLAS factory: Attempting to register factory for plugin cuBLAS when one has already been registered\n",
      "2024-03-15 05:44:02.390005: I tensorflow/core/platform/cpu_feature_guard.cc:182] This TensorFlow binary is optimized to use available CPU instructions in performance-critical operations.\n",
      "To enable the following instructions: AVX2 AVX512F AVX512_VNNI AVX512_BF16 FMA, in other operations, rebuild TensorFlow with the appropriate compiler flags.\n",
      "2024-03-15 05:44:02.992320: W tensorflow/compiler/tf2tensorrt/utils/py_utils.cc:38] TF-TRT Warning: Could not find TensorRT\n"
     ]
    },
    {
     "name": "stdout",
     "output_type": "stream",
     "text": [
      "[PhysicalDevice(name='/physical_device:GPU:0', device_type='GPU')]\n"
     ]
    },
    {
     "name": "stderr",
     "output_type": "stream",
     "text": [
      "2024-03-15 05:44:03.630698: I external/local_xla/xla/stream_executor/cuda/cuda_executor.cc:901] successful NUMA node read from SysFS had negative value (-1), but there must be at least one NUMA node, so returning NUMA node zero. See more at https://github.com/torvalds/linux/blob/v6.0/Documentation/ABI/testing/sysfs-bus-pci#L344-L355\n",
      "2024-03-15 05:44:03.651678: I external/local_xla/xla/stream_executor/cuda/cuda_executor.cc:901] successful NUMA node read from SysFS had negative value (-1), but there must be at least one NUMA node, so returning NUMA node zero. See more at https://github.com/torvalds/linux/blob/v6.0/Documentation/ABI/testing/sysfs-bus-pci#L344-L355\n",
      "2024-03-15 05:44:03.651809: I external/local_xla/xla/stream_executor/cuda/cuda_executor.cc:901] successful NUMA node read from SysFS had negative value (-1), but there must be at least one NUMA node, so returning NUMA node zero. See more at https://github.com/torvalds/linux/blob/v6.0/Documentation/ABI/testing/sysfs-bus-pci#L344-L355\n"
     ]
    }
   ],
   "source": [
    "import os\n",
    "import cv2\n",
    "import pandas as pd\n",
    "import numpy as np\n",
    "import matplotlib.pyplot as plt\n",
    "import matplotlib.image as mpimg\n",
    "%matplotlib inline\n",
    "\n",
    "    \n",
    "\n",
    "np.random.seed(0) # чтобы \n",
    "\n",
    "from sklearn.model_selection import train_test_split\n",
    "from sklearn.utils import resample\n",
    "from sklearn.preprocessing import StandardScaler\n",
    "from sklearn.metrics import accuracy_score, recall_score, precision_score, confusion_matrix, f1_score, classification_report\n",
    "from sklearn.metrics import classification_report\n",
    "\n",
    "import seaborn as sns\n",
    "\n",
    "import tensorflow as tf\n",
    "from tensorflow.keras.models import Sequential\n",
    "from tensorflow.keras.layers import Dense, Dropout, Flatten, Conv2D, MaxPool2D, Conv1D, MaxPool1D, Input, BatchNormalization\n",
    "from tensorflow.keras.optimizers import Adam, RMSprop, Nadam\n",
    "from tensorflow.keras.losses import SparseCategoricalCrossentropy, CategoricalCrossentropy\n",
    "from tensorflow.keras.preprocessing.image import ImageDataGenerator\n",
    "\n",
    "from tensorflow.keras.callbacks import ReduceLROnPlateau\n",
    "from tensorflow.keras.optimizers.experimental import RMSprop\n",
    "from tensorflow.keras.regularizers import L2\n",
    "\n",
    "#from mlxtend.plotting import plot_confusion_matrix\n",
    "\n",
    "physical_devices = tf.config.list_physical_devices('GPU') #Использую эту часть кода, чтобы работали ядра gpu\n",
    "tf.config.experimental.set_memory_growth(physical_devices[0], True)\n",
    "print(physical_devices)"
   ]
  },
  {
   "cell_type": "markdown",
   "id": "f6c70092",
   "metadata": {},
   "source": [
    "## 2. Обработка и визуализация данных"
   ]
  },
  {
   "cell_type": "markdown",
   "id": "1c279677",
   "metadata": {},
   "source": [
    "Создаю лейблы в виде цифр для кажого лейбла, чтобы наша модель могла работать на этой дате, помещаю все в словарь, чтобы дальше мы могли его использовать"
   ]
  },
  {
   "cell_type": "code",
   "execution_count": 3,
   "id": "ece640c6",
   "metadata": {},
   "outputs": [],
   "source": [
    "labels = {'FRONTAL': 0, 'LATERAL': 1, 'TRASH': 2}"
   ]
  },
  {
   "cell_type": "code",
   "execution_count": null,
   "id": "d807b1e3",
   "metadata": {},
   "outputs": [],
   "source": []
  },
  {
   "cell_type": "code",
   "execution_count": 4,
   "id": "10c502b0",
   "metadata": {},
   "outputs": [],
   "source": [
    "def load_images_from_folder(folder_path, label, img_size=512):\n",
    "    \"\"\"Эта функция создает из каждого изображения в папке которую мы передали\n",
    "        numpy.array и собирает все изображения в pandas.DataFrame(имеет колонки\n",
    "        label и picture) 'df' в котором каждое изображение получает лейбел из \n",
    "        переданного в функцию аргумента. Также функция имеет аргумент img_size,\n",
    "        по умолчанию 512, но может быть изменена, чтобы можно было изменить размер картинки\"\"\"\n",
    "    df = pd.DataFrame(columns=['label', 'picture'])\n",
    "    for filename in os.listdir(folder_path): #цикл проходит по всем названиям файлов в папке\n",
    "        img_path = os.path.join(folder_path, filename)\n",
    "        try: #ecли какой-то файл имеет другой формат, то печатает исключение в output, а не выбрасывает его\n",
    "            img = cv2.imread(img_path, cv2.IMREAD_GRAYSCALE)\n",
    "            img_resized = cv2.resize(img, (img_size, img_size)) #размер отличающихся изображений будет подогнан под стандарт\n",
    "            df.loc[len(df.index)] = [label, img_resized]\n",
    "        except Exception as e:\n",
    "            print(e)\n",
    "    return  df\n",
    "\n",
    "def create_x_y(df):\n",
    "    \"\"\"Это функция создает input(x) и output(y)\n",
    "        для модели\"\"\"\n",
    "    y = df['label']\n",
    "    x = [] #собирает все np.array в один\n",
    "    for array in df['picture']:\n",
    "        x.append(array)\n",
    "    return np.array(x), np.array(y)\n",
    "\n",
    "def extract_data(general_folder_name, labels, shuffle=True):\n",
    "    \"\"\"Эта функция собирает все датафреймы, полученные через функцию load_images_from_folder\n",
    "        и соединяет их один датафрейм. Если shuffle=True функция перемешивает строки в датафрейме.\n",
    "        После этого создает из датафрейма input(x) и output(y) и возвращает их.\"\"\"\n",
    "    resulting_df = pd.DataFrame(columns=['label', 'picture'])\n",
    "    for folder_name in os.listdir(general_folder_name): #проходимся по всем названиям папок в \n",
    "        label = labels[folder_name]\n",
    "        folder_path = os.path.join(general_folder_name, folder_name) # формирует полный путь к папке\n",
    "        df = load_images_from_folder(folder_path, label)\n",
    "        resulting_df = pd.concat([resulting_df, df])\n",
    "    if shuffle:\n",
    "        resulting_df = resulting_df.sample(frac=1) #перемешивает весь датасет, чтобы модель работала лучше\n",
    "    x, y = create_x_y(resulting_df) # создает x, y\n",
    "    return x, y"
   ]
  },
  {
   "cell_type": "markdown",
   "id": "09699767",
   "metadata": {},
   "source": [
    "Загружаем всю нашу дату для тренинга и валидации"
   ]
  },
  {
   "cell_type": "code",
   "execution_count": 5,
   "id": "56845873",
   "metadata": {},
   "outputs": [
    {
     "name": "stdout",
     "output_type": "stream",
     "text": [
      "OpenCV(4.9.0) /io/opencv/modules/imgproc/src/resize.cpp:4152: error: (-215:Assertion failed) !ssize.empty() in function 'resize'\n",
      "\n",
      "OpenCV(4.9.0) /io/opencv/modules/imgproc/src/resize.cpp:4152: error: (-215:Assertion failed) !ssize.empty() in function 'resize'\n",
      "\n"
     ]
    }
   ],
   "source": [
    "X_train, y_train = extract_data('train', labels)\n",
    "X_validation, y_validation = extract_data('validation', labels)"
   ]
  },
  {
   "cell_type": "markdown",
   "id": "5107b7ad",
   "metadata": {},
   "source": [
    "Посмотрм на shape нашей даты"
   ]
  },
  {
   "cell_type": "code",
   "execution_count": 6,
   "id": "c25f96e9",
   "metadata": {},
   "outputs": [
    {
     "data": {
      "text/plain": [
       "(4187, 512, 512)"
      ]
     },
     "execution_count": 6,
     "metadata": {},
     "output_type": "execute_result"
    }
   ],
   "source": [
    "X_train.shape"
   ]
  },
  {
   "cell_type": "code",
   "execution_count": 7,
   "id": "d44c7433",
   "metadata": {},
   "outputs": [
    {
     "data": {
      "text/plain": [
       "(4187,)"
      ]
     },
     "execution_count": 7,
     "metadata": {},
     "output_type": "execute_result"
    }
   ],
   "source": [
    "y_train.shape"
   ]
  },
  {
   "cell_type": "code",
   "execution_count": 8,
   "id": "6dff8a2e",
   "metadata": {},
   "outputs": [
    {
     "data": {
      "text/plain": [
       "(928, 512, 512)"
      ]
     },
     "execution_count": 8,
     "metadata": {},
     "output_type": "execute_result"
    }
   ],
   "source": [
    "X_validation.shape"
   ]
  },
  {
   "cell_type": "code",
   "execution_count": 9,
   "id": "0d76e0d9",
   "metadata": {},
   "outputs": [
    {
     "data": {
      "text/plain": [
       "(928,)"
      ]
     },
     "execution_count": 9,
     "metadata": {},
     "output_type": "execute_result"
    }
   ],
   "source": [
    "y_validation.shape"
   ]
  },
  {
   "cell_type": "markdown",
   "id": "99a3e8bb",
   "metadata": {},
   "source": [
    "У нас 4187 кейсов в train датасете и 928 в validation"
   ]
  },
  {
   "cell_type": "markdown",
   "id": "b4d59f08",
   "metadata": {},
   "source": [
    "Нам нужно провести rescaling и reshaping X_train и X_validation, так как сейчас они находятся в диапазоне от 0 до 255, что будет мешать работе нашей модели. Поэтому поделим все значения на 255, чтобы изменить их диапазон в промежуток от 0 до 1. В таком случае модель будет работать быстрее и эффективнее.\n",
    "Также необходимо изменить форму и добавить новую измерение, которе будет показывать канальность изображения, в нашем случае один."
   ]
  },
  {
   "cell_type": "code",
   "execution_count": 10,
   "id": "8c0f975c",
   "metadata": {},
   "outputs": [],
   "source": [
    "X_train = X_train / 255\n",
    "X_validation = X_validation / 255\n",
    "X_train = X_train.reshape(*X_train.shape, 1)\n",
    "X_validation = X_validation.reshape(*X_validation.shape, 1)\n",
    "X_train = X_train.astype(np.float32)\n",
    "X_validation = X_validation.astype(np.float32)"
   ]
  },
  {
   "cell_type": "markdown",
   "id": "c029f41b",
   "metadata": {},
   "source": [
    "Cоздаю bar chart, чтобы мы могли взглянуть на распределение наших лейблов"
   ]
  },
  {
   "cell_type": "code",
   "execution_count": 11,
   "id": "86a969f9",
   "metadata": {},
   "outputs": [
    {
     "data": {
      "text/plain": [
       "<Axes: xlabel='Label', ylabel='count'>"
      ]
     },
     "execution_count": 11,
     "metadata": {},
     "output_type": "execute_result"
    },
    {
     "data": {
      "image/png": "[encoded data removed]",
      "text/plain": [
       "<Figure size 640x480 with 1 Axes>"
      ]
     },
     "metadata": {},
     "output_type": "display_data"
    }
   ],
   "source": [
    "df = pd.DataFrame({'Label': ['FRONTAL'] * (y_train == 0).sum() + ['LATERAL'] * (y_train == 1).sum() + \n",
    "                  ['TRASH'] * (y_train == 2).sum()})\n",
    "sns.set_style('darkgrid')\n",
    "sns.countplot(data=df, x='Label')"
   ]
  },
  {
   "cell_type": "markdown",
   "id": "bb8a932f",
   "metadata": {},
   "source": [
    "Наша дата практически идеально распределена, что является редкостью для медицинской даты. Это очень хорошо для модели, так как именно такое распределение дает лучший результат будущих предсказаний "
   ]
  },
  {
   "cell_type": "markdown",
   "id": "aa06f5e0",
   "metadata": {},
   "source": [
    "Покажу несколько примеров из нашей даты, чтобы наглядно увидеть с какими изображениями я работаю"
   ]
  },
  {
   "cell_type": "code",
   "execution_count": 12,
   "id": "0830724d",
   "metadata": {},
   "outputs": [
    {
     "data": {
      "image/png": "[encoded data removed]",
      "text/plain": [
       "<Figure size 640x480 with 9 Axes>"
      ]
     },
     "metadata": {},
     "output_type": "display_data"
    }
   ],
   "source": [
    "fig, ax = plt.subplots(3,3)\n",
    "for i in range(3):\n",
    "    for j in range(3):\n",
    "        if i == 0:\n",
    "            ax[i][j].imshow(X_train[y_train==0][j], cmap='gray')\n",
    "            ax[i][j].set_title('FRONTAL')\n",
    "        elif i == 1:\n",
    "            ax[i][j].imshow(X_train[y_train==1][j], cmap='gray')\n",
    "            ax[i][j].set_title('LATERAL')\n",
    "        else:\n",
    "            ax[i][j].imshow(X_train[y_train==2][j], cmap='gray')\n",
    "            ax[i][j].set_title('TRASH')\n",
    "        ax[i][j].set_xticks([])\n",
    "        ax[i][j].set_yticks([])"
   ]
  },
  {
   "cell_type": "code",
   "execution_count": 13,
   "id": "a2acffab",
   "metadata": {},
   "outputs": [],
   "source": [
    "y_train = y_train.astype(np.int32)"
   ]
  },
  {
   "cell_type": "markdown",
   "id": "f0d4297a",
   "metadata": {},
   "source": [
    "Как можно видеть наша дата состоит из фронтальных, лательных рентгеноских снимков, а также из рентгеновскиз снимков, которые не относятся к первым двум лейблам или вовсе просто шум"
   ]
  },
  {
   "cell_type": "code",
   "execution_count": 14,
   "id": "f83be33d",
   "metadata": {},
   "outputs": [],
   "source": [
    "datagen = ImageDataGenerator(\n",
    "        featurewise_center=False,  # set input mean to 0 over the dataset\n",
    "        samplewise_center=False,  # set each sample mean to 0\n",
    "        featurewise_std_normalization=False,  # divide inputs by std of the dataset\n",
    "        samplewise_std_normalization=False,  # divide each input by its std\n",
    "        zca_whitening=False,  # apply ZCA whitening\n",
    "        rotation_range = 30,  # randomly rotate images in the range (degrees, 0 to 180)\n",
    "        zoom_range = 0.2, # Randomly zoom image \n",
    "        width_shift_range=0.1,  # randomly shift images horizontally (fraction of total width)\n",
    "        height_shift_range=0.1,  # randomly shift images vertically (fraction of total height)\n",
    "        horizontal_flip = True,  # randomly flip images\n",
    "        vertical_flip=False)  # randomly flip images\n",
    "\n",
    "\n",
    "datagen.fit(X_train)"
   ]
  },
  {
   "cell_type": "code",
   "execution_count": 15,
   "id": "9cf4e802",
   "metadata": {},
   "outputs": [
    {
     "name": "stderr",
     "output_type": "stream",
     "text": [
      "2024-03-15 05:44:24.275092: I external/local_xla/xla/stream_executor/cuda/cuda_executor.cc:901] successful NUMA node read from SysFS had negative value (-1), but there must be at least one NUMA node, so returning NUMA node zero. See more at https://github.com/torvalds/linux/blob/v6.0/Documentation/ABI/testing/sysfs-bus-pci#L344-L355\n",
      "2024-03-15 05:44:24.275637: I external/local_xla/xla/stream_executor/cuda/cuda_executor.cc:901] successful NUMA node read from SysFS had negative value (-1), but there must be at least one NUMA node, so returning NUMA node zero. See more at https://github.com/torvalds/linux/blob/v6.0/Documentation/ABI/testing/sysfs-bus-pci#L344-L355\n",
      "2024-03-15 05:44:24.275708: I external/local_xla/xla/stream_executor/cuda/cuda_executor.cc:901] successful NUMA node read from SysFS had negative value (-1), but there must be at least one NUMA node, so returning NUMA node zero. See more at https://github.com/torvalds/linux/blob/v6.0/Documentation/ABI/testing/sysfs-bus-pci#L344-L355\n",
      "2024-03-15 05:44:24.342646: I external/local_xla/xla/stream_executor/cuda/cuda_executor.cc:901] successful NUMA node read from SysFS had negative value (-1), but there must be at least one NUMA node, so returning NUMA node zero. See more at https://github.com/torvalds/linux/blob/v6.0/Documentation/ABI/testing/sysfs-bus-pci#L344-L355\n",
      "2024-03-15 05:44:24.342914: I external/local_xla/xla/stream_executor/cuda/cuda_executor.cc:901] successful NUMA node read from SysFS had negative value (-1), but there must be at least one NUMA node, so returning NUMA node zero. See more at https://github.com/torvalds/linux/blob/v6.0/Documentation/ABI/testing/sysfs-bus-pci#L344-L355\n",
      "2024-03-15 05:44:24.342990: I external/local_xla/xla/stream_executor/cuda/cuda_executor.cc:901] successful NUMA node read from SysFS had negative value (-1), but there must be at least one NUMA node, so returning NUMA node zero. See more at https://github.com/torvalds/linux/blob/v6.0/Documentation/ABI/testing/sysfs-bus-pci#L344-L355\n",
      "2024-03-15 05:44:24.343132: I tensorflow/core/common_runtime/gpu/gpu_device.cc:1929] Created device /job:localhost/replica:0/task:0/device:GPU:0 with 7278 MB memory:  -> device: 0, name: NVIDIA GeForce RTX 3060, pci bus id: 0000:01:00.0, compute capability: 8.6\n"
     ]
    }
   ],
   "source": [
    "model = Sequential([\n",
    "    Conv2D(32, (2,2) , strides = 2 , padding = 'same' , activation = 'relu' , input_shape = (512,512,1)),\n",
    "    BatchNormalization(),\n",
    "    MaxPool2D((2,2) , strides = 2),\n",
    "    Conv2D(16, (2,2) , strides = 2 , padding = 'same' , activation = 'relu'),\n",
    "    BatchNormalization(),\n",
    "    MaxPool2D((2,2) , strides = 2),\n",
    "    Conv2D(16, (2,2) , strides = 2 , padding = 'same' , activation = 'relu'),\n",
    "    MaxPool2D((2,2) , strides = 2),\n",
    "    Flatten(),\n",
    "    Dense(100, activation='relu'),\n",
    "    Dropout(0.1),\n",
    "    Dense(units = 40 , activation= 'relu'),\n",
    "    Dropout(0.1),\n",
    "    Dense(units = 3 , activation = 'softmax'),\n",
    "])"
   ]
  },
  {
   "cell_type": "code",
   "execution_count": 16,
   "id": "0bdab940",
   "metadata": {},
   "outputs": [],
   "source": [
    "model.compile(optimizer = Adam(0.0001), loss = CategoricalCrossentropy(), metrics=['accuracy'])"
   ]
  },
  {
   "cell_type": "code",
   "execution_count": 17,
   "id": "a64054bf",
   "metadata": {},
   "outputs": [],
   "source": [
    "y_train_tensor = tf.keras.utils.to_categorical(y_train)"
   ]
  },
  {
   "cell_type": "code",
   "execution_count": 18,
   "id": "7f18a0e3",
   "metadata": {},
   "outputs": [
    {
     "data": {
      "text/plain": [
       "(4187, 3)"
      ]
     },
     "execution_count": 18,
     "metadata": {},
     "output_type": "execute_result"
    }
   ],
   "source": [
    "y_train_tensor.shape"
   ]
  },
  {
   "cell_type": "code",
   "execution_count": 19,
   "id": "7eb59726",
   "metadata": {},
   "outputs": [],
   "source": [
    "learning_rate_reduction = ReduceLROnPlateau(monitor='val_accuracy', patience = 2, verbose=1,factor=0.3, min_lr=0.000001)"
   ]
  },
  {
   "cell_type": "code",
   "execution_count": 20,
   "id": "7f704bf7",
   "metadata": {},
   "outputs": [
    {
     "name": "stdout",
     "output_type": "stream",
     "text": [
      "Epoch 1/130\n"
     ]
    },
    {
     "name": "stderr",
     "output_type": "stream",
     "text": [
      "2024-03-15 05:44:37.764083: I external/local_xla/xla/stream_executor/cuda/cuda_dnn.cc:454] Loaded cuDNN version 8904\n",
      "2024-03-15 05:44:37.867376: I external/local_tsl/tsl/platform/default/subprocess.cc:304] Start cannot spawn child process: No such file or directory\n",
      "2024-03-15 05:44:38.338100: I external/local_tsl/tsl/platform/default/subprocess.cc:304] Start cannot spawn child process: No such file or directory\n",
      "2024-03-15 05:44:38.652357: I external/local_xla/xla/service/service.cc:168] XLA service 0x7f00751a0120 initialized for platform CUDA (this does not guarantee that XLA will be used). Devices:\n",
      "2024-03-15 05:44:38.652374: I external/local_xla/xla/service/service.cc:176]   StreamExecutor device (0): NVIDIA GeForce RTX 3060, Compute Capability 8.6\n",
      "2024-03-15 05:44:38.665254: I tensorflow/compiler/mlir/tensorflow/utils/dump_mlir_util.cc:269] disabling MLIR crash reproducer, set env var `MLIR_CRASH_REPRODUCER_DIRECTORY` to enable.\n",
      "WARNING: All log messages before absl::InitializeLog() is called are written to STDERR\n",
      "I0000 00:00:1710470678.727732   65501 device_compiler.h:186] Compiled cluster using XLA!  This line is logged at most once for the lifetime of the process.\n"
     ]
    },
    {
     "name": "stdout",
     "output_type": "stream",
     "text": [
      "131/131 [==============================] - 27s 182ms/step - loss: 0.7143 - accuracy: 0.6941\n",
      "Epoch 2/130\n",
      "131/131 [==============================] - 24s 182ms/step - loss: 0.3719 - accuracy: 0.8596\n",
      "Epoch 3/130\n",
      "131/131 [==============================] - 23s 179ms/step - loss: 0.2904 - accuracy: 0.8944\n",
      "Epoch 4/130\n",
      "131/131 [==============================] - 23s 177ms/step - loss: 0.2500 - accuracy: 0.9121\n",
      "Epoch 5/130\n",
      "131/131 [==============================] - 23s 174ms/step - loss: 0.2235 - accuracy: 0.9169\n",
      "Epoch 6/130\n",
      "131/131 [==============================] - 23s 178ms/step - loss: 0.1981 - accuracy: 0.9303\n",
      "Epoch 7/130\n",
      "131/131 [==============================] - 23s 179ms/step - loss: 0.1990 - accuracy: 0.9286\n",
      "Epoch 8/130\n",
      "131/131 [==============================] - 23s 176ms/step - loss: 0.1620 - accuracy: 0.9427\n",
      "Epoch 9/130\n",
      "131/131 [==============================] - 23s 176ms/step - loss: 0.1744 - accuracy: 0.9374\n",
      "Epoch 10/130\n",
      "131/131 [==============================] - 23s 178ms/step - loss: 0.1588 - accuracy: 0.9455\n",
      "Epoch 11/130\n",
      "131/131 [==============================] - 23s 177ms/step - loss: 0.1644 - accuracy: 0.9401\n",
      "Epoch 12/130\n",
      "131/131 [==============================] - 23s 177ms/step - loss: 0.1447 - accuracy: 0.9479\n",
      "Epoch 13/130\n",
      "131/131 [==============================] - 23s 179ms/step - loss: 0.1385 - accuracy: 0.9532\n",
      "Epoch 14/130\n",
      "131/131 [==============================] - 24s 182ms/step - loss: 0.1347 - accuracy: 0.9525\n",
      "Epoch 15/130\n",
      "131/131 [==============================] - 23s 179ms/step - loss: 0.1321 - accuracy: 0.9532\n",
      "Epoch 16/130\n",
      "131/131 [==============================] - 23s 179ms/step - loss: 0.1232 - accuracy: 0.9589\n",
      "Epoch 17/130\n",
      "131/131 [==============================] - 23s 179ms/step - loss: 0.1200 - accuracy: 0.9592\n",
      "Epoch 18/130\n",
      "131/131 [==============================] - 23s 179ms/step - loss: 0.1274 - accuracy: 0.9568\n",
      "Epoch 19/130\n",
      "131/131 [==============================] - 23s 178ms/step - loss: 0.1180 - accuracy: 0.9589\n",
      "Epoch 20/130\n",
      "131/131 [==============================] - 24s 179ms/step - loss: 0.1104 - accuracy: 0.9632\n",
      "Epoch 21/130\n",
      "131/131 [==============================] - 23s 178ms/step - loss: 0.1171 - accuracy: 0.9584\n",
      "Epoch 22/130\n",
      "131/131 [==============================] - 24s 182ms/step - loss: 0.1075 - accuracy: 0.9589\n",
      "Epoch 23/130\n",
      "131/131 [==============================] - 24s 184ms/step - loss: 0.1162 - accuracy: 0.9613\n",
      "Epoch 24/130\n",
      "131/131 [==============================] - 24s 180ms/step - loss: 0.1082 - accuracy: 0.9642\n",
      "Epoch 25/130\n",
      "131/131 [==============================] - 24s 181ms/step - loss: 0.1062 - accuracy: 0.9611\n",
      "Epoch 26/130\n",
      "131/131 [==============================] - 23s 176ms/step - loss: 0.0920 - accuracy: 0.9663\n",
      "Epoch 27/130\n",
      "131/131 [==============================] - 23s 176ms/step - loss: 0.0927 - accuracy: 0.9651\n",
      "Epoch 28/130\n",
      "131/131 [==============================] - 24s 180ms/step - loss: 0.1015 - accuracy: 0.9635\n",
      "Epoch 29/130\n",
      "131/131 [==============================] - 23s 175ms/step - loss: 0.1025 - accuracy: 0.9627\n",
      "Epoch 30/130\n",
      "131/131 [==============================] - 24s 182ms/step - loss: 0.0990 - accuracy: 0.9649\n",
      "Epoch 31/130\n",
      "131/131 [==============================] - 23s 177ms/step - loss: 0.0912 - accuracy: 0.9670\n",
      "Epoch 32/130\n",
      "131/131 [==============================] - 23s 177ms/step - loss: 0.0891 - accuracy: 0.9675\n",
      "Epoch 33/130\n",
      "131/131 [==============================] - 23s 177ms/step - loss: 0.0878 - accuracy: 0.9704\n",
      "Epoch 34/130\n",
      "131/131 [==============================] - 23s 179ms/step - loss: 0.0884 - accuracy: 0.9670\n",
      "Epoch 35/130\n",
      "131/131 [==============================] - 23s 173ms/step - loss: 0.0982 - accuracy: 0.9620\n",
      "Epoch 36/130\n",
      "131/131 [==============================] - 23s 177ms/step - loss: 0.0845 - accuracy: 0.9704\n",
      "Epoch 37/130\n",
      "131/131 [==============================] - 23s 176ms/step - loss: 0.0844 - accuracy: 0.9721\n",
      "Epoch 38/130\n",
      "131/131 [==============================] - 23s 174ms/step - loss: 0.0823 - accuracy: 0.9713\n",
      "Epoch 39/130\n",
      "131/131 [==============================] - 23s 179ms/step - loss: 0.0865 - accuracy: 0.9694\n",
      "Epoch 40/130\n",
      "131/131 [==============================] - 23s 178ms/step - loss: 0.0856 - accuracy: 0.9713\n",
      "Epoch 41/130\n",
      "131/131 [==============================] - 24s 181ms/step - loss: 0.0733 - accuracy: 0.9744\n",
      "Epoch 42/130\n",
      "131/131 [==============================] - 23s 178ms/step - loss: 0.0692 - accuracy: 0.9725\n",
      "Epoch 43/130\n",
      "131/131 [==============================] - 23s 172ms/step - loss: 0.0732 - accuracy: 0.9730\n",
      "Epoch 44/130\n",
      "131/131 [==============================] - 23s 178ms/step - loss: 0.0765 - accuracy: 0.9725\n",
      "Epoch 45/130\n",
      "131/131 [==============================] - 23s 177ms/step - loss: 0.0713 - accuracy: 0.9718\n",
      "Epoch 46/130\n",
      "131/131 [==============================] - 24s 181ms/step - loss: 0.0753 - accuracy: 0.9742\n",
      "Epoch 47/130\n",
      "131/131 [==============================] - 23s 177ms/step - loss: 0.0820 - accuracy: 0.9697\n",
      "Epoch 48/130\n",
      "131/131 [==============================] - 23s 176ms/step - loss: 0.0734 - accuracy: 0.9744\n",
      "Epoch 49/130\n",
      "131/131 [==============================] - 24s 182ms/step - loss: 0.0636 - accuracy: 0.9778\n",
      "Epoch 50/130\n",
      "131/131 [==============================] - 23s 179ms/step - loss: 0.0702 - accuracy: 0.9752\n",
      "Epoch 51/130\n",
      "131/131 [==============================] - 23s 176ms/step - loss: 0.0720 - accuracy: 0.9744\n",
      "Epoch 52/130\n",
      "131/131 [==============================] - 23s 177ms/step - loss: 0.0673 - accuracy: 0.9768\n",
      "Epoch 53/130\n",
      "131/131 [==============================] - 23s 178ms/step - loss: 0.0631 - accuracy: 0.9754\n",
      "Epoch 54/130\n",
      "131/131 [==============================] - 23s 176ms/step - loss: 0.0653 - accuracy: 0.9754\n",
      "Epoch 55/130\n",
      "131/131 [==============================] - 23s 173ms/step - loss: 0.0654 - accuracy: 0.9766\n",
      "Epoch 56/130\n",
      "131/131 [==============================] - 23s 179ms/step - loss: 0.0631 - accuracy: 0.9749\n",
      "Epoch 57/130\n",
      "131/131 [==============================] - 24s 181ms/step - loss: 0.0646 - accuracy: 0.9744\n",
      "Epoch 58/130\n",
      "131/131 [==============================] - 23s 175ms/step - loss: 0.0682 - accuracy: 0.9759\n",
      "Epoch 59/130\n",
      "131/131 [==============================] - 23s 172ms/step - loss: 0.0680 - accuracy: 0.9752\n",
      "Epoch 60/130\n",
      "131/131 [==============================] - 24s 181ms/step - loss: 0.0604 - accuracy: 0.9802\n",
      "Epoch 61/130\n",
      "131/131 [==============================] - 23s 176ms/step - loss: 0.0676 - accuracy: 0.9764\n",
      "Epoch 62/130\n",
      "131/131 [==============================] - 23s 178ms/step - loss: 0.0634 - accuracy: 0.9773\n",
      "Epoch 63/130\n",
      "131/131 [==============================] - 23s 174ms/step - loss: 0.0705 - accuracy: 0.9775\n",
      "Epoch 64/130\n",
      "131/131 [==============================] - 23s 174ms/step - loss: 0.0601 - accuracy: 0.9785\n",
      "Epoch 65/130\n",
      "131/131 [==============================] - 22s 170ms/step - loss: 0.0608 - accuracy: 0.9783\n",
      "Epoch 66/130\n",
      "131/131 [==============================] - 23s 173ms/step - loss: 0.0606 - accuracy: 0.9783\n",
      "Epoch 67/130\n",
      "131/131 [==============================] - 23s 173ms/step - loss: 0.0667 - accuracy: 0.9766\n",
      "Epoch 68/130\n",
      "131/131 [==============================] - 23s 177ms/step - loss: 0.0514 - accuracy: 0.9816\n",
      "Epoch 69/130\n",
      "131/131 [==============================] - 23s 176ms/step - loss: 0.0638 - accuracy: 0.9778\n",
      "Epoch 70/130\n",
      "131/131 [==============================] - 23s 175ms/step - loss: 0.0553 - accuracy: 0.9795\n",
      "Epoch 71/130\n",
      "131/131 [==============================] - 23s 172ms/step - loss: 0.0641 - accuracy: 0.9780\n",
      "Epoch 72/130\n",
      "131/131 [==============================] - 23s 176ms/step - loss: 0.0555 - accuracy: 0.9795\n",
      "Epoch 73/130\n",
      "131/131 [==============================] - 23s 175ms/step - loss: 0.0562 - accuracy: 0.9816\n",
      "Epoch 74/130\n",
      "131/131 [==============================] - 23s 176ms/step - loss: 0.0548 - accuracy: 0.9816\n",
      "Epoch 75/130\n",
      "131/131 [==============================] - 24s 179ms/step - loss: 0.0496 - accuracy: 0.9842\n",
      "Epoch 76/130\n",
      "131/131 [==============================] - 23s 177ms/step - loss: 0.0523 - accuracy: 0.9818\n",
      "Epoch 77/130\n",
      "131/131 [==============================] - 23s 176ms/step - loss: 0.0597 - accuracy: 0.9783\n",
      "Epoch 78/130\n",
      "131/131 [==============================] - 24s 182ms/step - loss: 0.0466 - accuracy: 0.9816\n",
      "Epoch 79/130\n"
     ]
    },
    {
     "name": "stdout",
     "output_type": "stream",
     "text": [
      "131/131 [==============================] - 23s 175ms/step - loss: 0.0534 - accuracy: 0.9807\n",
      "Epoch 80/130\n",
      "131/131 [==============================] - 23s 177ms/step - loss: 0.0428 - accuracy: 0.9857\n",
      "Epoch 81/130\n",
      "131/131 [==============================] - 23s 174ms/step - loss: 0.0507 - accuracy: 0.9802\n",
      "Epoch 82/130\n",
      "131/131 [==============================] - 24s 180ms/step - loss: 0.0553 - accuracy: 0.9811\n",
      "Epoch 83/130\n",
      "131/131 [==============================] - 23s 176ms/step - loss: 0.0454 - accuracy: 0.9833\n",
      "Epoch 84/130\n",
      "131/131 [==============================] - 23s 176ms/step - loss: 0.0446 - accuracy: 0.9847\n",
      "Epoch 85/130\n",
      "131/131 [==============================] - 23s 177ms/step - loss: 0.0456 - accuracy: 0.9818\n",
      "Epoch 86/130\n",
      "131/131 [==============================] - 24s 182ms/step - loss: 0.0518 - accuracy: 0.9833\n",
      "Epoch 87/130\n",
      "131/131 [==============================] - 23s 178ms/step - loss: 0.0492 - accuracy: 0.9828\n",
      "Epoch 88/130\n",
      "131/131 [==============================] - 23s 177ms/step - loss: 0.0511 - accuracy: 0.9821\n",
      "Epoch 89/130\n",
      "131/131 [==============================] - 23s 178ms/step - loss: 0.0501 - accuracy: 0.9818\n",
      "Epoch 90/130\n",
      "131/131 [==============================] - 24s 184ms/step - loss: 0.0464 - accuracy: 0.9840\n",
      "Epoch 91/130\n",
      "131/131 [==============================] - 24s 180ms/step - loss: 0.0480 - accuracy: 0.9850\n",
      "Epoch 92/130\n",
      "131/131 [==============================] - 28s 210ms/step - loss: 0.0437 - accuracy: 0.9857\n",
      "Epoch 93/130\n",
      "131/131 [==============================] - 23s 178ms/step - loss: 0.0505 - accuracy: 0.9818\n",
      "Epoch 94/130\n",
      "131/131 [==============================] - 23s 177ms/step - loss: 0.0489 - accuracy: 0.9814\n",
      "Epoch 95/130\n",
      "131/131 [==============================] - 23s 175ms/step - loss: 0.0428 - accuracy: 0.9854\n",
      "Epoch 96/130\n",
      "131/131 [==============================] - 23s 173ms/step - loss: 0.0515 - accuracy: 0.9818\n",
      "Epoch 97/130\n",
      "131/131 [==============================] - 22s 171ms/step - loss: 0.0408 - accuracy: 0.9864\n",
      "Epoch 98/130\n",
      "131/131 [==============================] - 23s 179ms/step - loss: 0.0490 - accuracy: 0.9828\n",
      "Epoch 99/130\n",
      "131/131 [==============================] - 24s 179ms/step - loss: 0.0445 - accuracy: 0.9864\n",
      "Epoch 100/130\n",
      "131/131 [==============================] - 23s 176ms/step - loss: 0.0434 - accuracy: 0.9840\n",
      "Epoch 101/130\n",
      "131/131 [==============================] - 24s 180ms/step - loss: 0.0431 - accuracy: 0.9840\n",
      "Epoch 102/130\n",
      "131/131 [==============================] - 23s 178ms/step - loss: 0.0468 - accuracy: 0.9840\n",
      "Epoch 103/130\n",
      "131/131 [==============================] - 23s 176ms/step - loss: 0.0425 - accuracy: 0.9861\n",
      "Epoch 104/130\n",
      "131/131 [==============================] - 23s 175ms/step - loss: 0.0425 - accuracy: 0.9857\n",
      "Epoch 105/130\n",
      "131/131 [==============================] - 24s 181ms/step - loss: 0.0403 - accuracy: 0.9847\n",
      "Epoch 106/130\n",
      "131/131 [==============================] - 23s 176ms/step - loss: 0.0460 - accuracy: 0.9857\n",
      "Epoch 107/130\n",
      "131/131 [==============================] - 23s 176ms/step - loss: 0.0412 - accuracy: 0.9838\n",
      "Epoch 108/130\n",
      "131/131 [==============================] - 23s 176ms/step - loss: 0.0365 - accuracy: 0.9859\n",
      "Epoch 109/130\n",
      "131/131 [==============================] - 23s 175ms/step - loss: 0.0361 - accuracy: 0.9878\n",
      "Epoch 110/130\n",
      "131/131 [==============================] - 23s 178ms/step - loss: 0.0394 - accuracy: 0.9861\n",
      "Epoch 111/130\n",
      "131/131 [==============================] - 23s 177ms/step - loss: 0.0329 - accuracy: 0.9878\n",
      "Epoch 112/130\n",
      "131/131 [==============================] - 23s 179ms/step - loss: 0.0470 - accuracy: 0.9833\n",
      "Epoch 113/130\n",
      "131/131 [==============================] - 23s 179ms/step - loss: 0.0402 - accuracy: 0.9854\n",
      "Epoch 114/130\n",
      "131/131 [==============================] - 23s 175ms/step - loss: 0.0367 - accuracy: 0.9881\n",
      "Epoch 115/130\n",
      "131/131 [==============================] - 23s 177ms/step - loss: 0.0376 - accuracy: 0.9890\n",
      "Epoch 116/130\n",
      "131/131 [==============================] - 24s 180ms/step - loss: 0.0400 - accuracy: 0.9852\n",
      "Epoch 117/130\n",
      "131/131 [==============================] - 23s 177ms/step - loss: 0.0423 - accuracy: 0.9854\n",
      "Epoch 118/130\n",
      "131/131 [==============================] - 23s 178ms/step - loss: 0.0369 - accuracy: 0.9866\n",
      "Epoch 119/130\n",
      "131/131 [==============================] - 23s 176ms/step - loss: 0.0391 - accuracy: 0.9852\n",
      "Epoch 120/130\n",
      "131/131 [==============================] - 23s 177ms/step - loss: 0.0347 - accuracy: 0.9890\n",
      "Epoch 121/130\n",
      "131/131 [==============================] - 24s 180ms/step - loss: 0.0349 - accuracy: 0.9866\n",
      "Epoch 122/130\n",
      "131/131 [==============================] - 23s 176ms/step - loss: 0.0388 - accuracy: 0.9864\n",
      "Epoch 123/130\n",
      "131/131 [==============================] - 23s 177ms/step - loss: 0.0399 - accuracy: 0.9842\n",
      "Epoch 124/130\n",
      "131/131 [==============================] - 24s 180ms/step - loss: 0.0292 - accuracy: 0.9888\n",
      "Epoch 125/130\n",
      "131/131 [==============================] - 23s 178ms/step - loss: 0.0339 - accuracy: 0.9885\n",
      "Epoch 126/130\n",
      "131/131 [==============================] - 23s 178ms/step - loss: 0.0356 - accuracy: 0.9866\n",
      "Epoch 127/130\n",
      "131/131 [==============================] - 23s 176ms/step - loss: 0.0325 - accuracy: 0.9883\n",
      "Epoch 128/130\n",
      "131/131 [==============================] - 23s 175ms/step - loss: 0.0342 - accuracy: 0.9861\n",
      "Epoch 129/130\n",
      "131/131 [==============================] - 25s 189ms/step - loss: 0.0405 - accuracy: 0.9859\n",
      "Epoch 130/130\n",
      "131/131 [==============================] - 23s 177ms/step - loss: 0.0368 - accuracy: 0.9881\n"
     ]
    }
   ],
   "source": [
    "history = model.fit(datagen.flow(X_train, y_train_tensor, batch_size = 32) ,epochs = 130)"
   ]
  },
  {
   "cell_type": "code",
   "execution_count": 25,
   "id": "44d0c7d5",
   "metadata": {},
   "outputs": [
    {
     "name": "stderr",
     "output_type": "stream",
     "text": [
      "2024-03-14 21:19:01.016601: W external/local_tsl/tsl/framework/bfc_allocator.cc:485] Allocator (GPU_0_bfc) ran out of memory trying to allocate 4.09GiB (rounded to 4390387712)requested by op _EagerConst\n",
      "If the cause is memory fragmentation maybe the environment variable 'TF_GPU_ALLOCATOR=cuda_malloc_async' will improve the situation. \n",
      "Current allocation summary follows.\n",
      "Current allocation summary follows.\n",
      "2024-03-14 21:19:01.016646: I external/local_tsl/tsl/framework/bfc_allocator.cc:1039] BFCAllocator dump for GPU_0_bfc\n",
      "2024-03-14 21:19:01.016657: I external/local_tsl/tsl/framework/bfc_allocator.cc:1046] Bin (256): \tTotal Chunks: 68, Chunks in use: 66. 17.0KiB allocated for chunks. 16.5KiB in use in bin. 2.9KiB client-requested in use in bin.\n",
      "2024-03-14 21:19:01.016663: I external/local_tsl/tsl/framework/bfc_allocator.cc:1046] Bin (512): \tTotal Chunks: 12, Chunks in use: 9. 6.0KiB allocated for chunks. 4.5KiB in use in bin. 4.1KiB client-requested in use in bin.\n",
      "2024-03-14 21:19:01.016668: I external/local_tsl/tsl/framework/bfc_allocator.cc:1046] Bin (1024): \tTotal Chunks: 1, Chunks in use: 1. 1.2KiB allocated for chunks. 1.2KiB in use in bin. 1.0KiB client-requested in use in bin.\n",
      "2024-03-14 21:19:01.016673: I external/local_tsl/tsl/framework/bfc_allocator.cc:1046] Bin (2048): \tTotal Chunks: 0, Chunks in use: 0. 0B allocated for chunks. 0B in use in bin. 0B client-requested in use in bin.\n",
      "2024-03-14 21:19:01.016678: I external/local_tsl/tsl/framework/bfc_allocator.cc:1046] Bin (4096): \tTotal Chunks: 3, Chunks in use: 3. 14.2KiB allocated for chunks. 14.2KiB in use in bin. 12.0KiB client-requested in use in bin.\n",
      "2024-03-14 21:19:01.016683: I external/local_tsl/tsl/framework/bfc_allocator.cc:1046] Bin (8192): \tTotal Chunks: 7, Chunks in use: 7. 82.2KiB allocated for chunks. 82.2KiB in use in bin. 81.8KiB client-requested in use in bin.\n",
      "2024-03-14 21:19:01.016687: I external/local_tsl/tsl/framework/bfc_allocator.cc:1046] Bin (16384): \tTotal Chunks: 0, Chunks in use: 0. 0B allocated for chunks. 0B in use in bin. 0B client-requested in use in bin.\n",
      "2024-03-14 21:19:01.016692: I external/local_tsl/tsl/framework/bfc_allocator.cc:1046] Bin (32768): \tTotal Chunks: 1, Chunks in use: 1. 49.2KiB allocated for chunks. 49.2KiB in use in bin. 49.1KiB client-requested in use in bin.\n",
      "2024-03-14 21:19:01.016696: I external/local_tsl/tsl/framework/bfc_allocator.cc:1046] Bin (65536): \tTotal Chunks: 0, Chunks in use: 0. 0B allocated for chunks. 0B in use in bin. 0B client-requested in use in bin.\n",
      "2024-03-14 21:19:01.016700: I external/local_tsl/tsl/framework/bfc_allocator.cc:1046] Bin (131072): \tTotal Chunks: 0, Chunks in use: 0. 0B allocated for chunks. 0B in use in bin. 0B client-requested in use in bin.\n",
      "2024-03-14 21:19:01.016705: I external/local_tsl/tsl/framework/bfc_allocator.cc:1046] Bin (262144): \tTotal Chunks: 3, Chunks in use: 2. 1.10MiB allocated for chunks. 800.0KiB in use in bin. 800.0KiB client-requested in use in bin.\n",
      "2024-03-14 21:19:01.016709: I external/local_tsl/tsl/framework/bfc_allocator.cc:1046] Bin (524288): \tTotal Chunks: 1, Chunks in use: 1. 752.8KiB allocated for chunks. 752.8KiB in use in bin. 400.0KiB client-requested in use in bin.\n",
      "2024-03-14 21:19:01.016713: I external/local_tsl/tsl/framework/bfc_allocator.cc:1046] Bin (1048576): \tTotal Chunks: 0, Chunks in use: 0. 0B allocated for chunks. 0B in use in bin. 0B client-requested in use in bin.\n",
      "2024-03-14 21:19:01.016717: I external/local_tsl/tsl/framework/bfc_allocator.cc:1046] Bin (2097152): \tTotal Chunks: 0, Chunks in use: 0. 0B allocated for chunks. 0B in use in bin. 0B client-requested in use in bin.\n",
      "2024-03-14 21:19:01.016721: I external/local_tsl/tsl/framework/bfc_allocator.cc:1046] Bin (4194304): \tTotal Chunks: 0, Chunks in use: 0. 0B allocated for chunks. 0B in use in bin. 0B client-requested in use in bin.\n",
      "2024-03-14 21:19:01.016725: I external/local_tsl/tsl/framework/bfc_allocator.cc:1046] Bin (8388608): \tTotal Chunks: 0, Chunks in use: 0. 0B allocated for chunks. 0B in use in bin. 0B client-requested in use in bin.\n",
      "2024-03-14 21:19:01.016729: I external/local_tsl/tsl/framework/bfc_allocator.cc:1046] Bin (16777216): \tTotal Chunks: 0, Chunks in use: 0. 0B allocated for chunks. 0B in use in bin. 0B client-requested in use in bin.\n",
      "2024-03-14 21:19:01.016733: I external/local_tsl/tsl/framework/bfc_allocator.cc:1046] Bin (33554432): \tTotal Chunks: 1, Chunks in use: 0. 32.00MiB allocated for chunks. 0B in use in bin. 0B client-requested in use in bin.\n",
      "2024-03-14 21:19:01.016737: I external/local_tsl/tsl/framework/bfc_allocator.cc:1046] Bin (67108864): \tTotal Chunks: 0, Chunks in use: 0. 0B allocated for chunks. 0B in use in bin. 0B client-requested in use in bin.\n",
      "2024-03-14 21:19:01.016741: I external/local_tsl/tsl/framework/bfc_allocator.cc:1046] Bin (134217728): \tTotal Chunks: 0, Chunks in use: 0. 0B allocated for chunks. 0B in use in bin. 0B client-requested in use in bin.\n",
      "2024-03-14 21:19:01.016752: I external/local_tsl/tsl/framework/bfc_allocator.cc:1046] Bin (268435456): \tTotal Chunks: 6, Chunks in use: 2. 9.25GiB allocated for chunks. 5.00GiB in use in bin. 5.00GiB client-requested in use in bin.\n",
      "2024-03-14 21:19:01.016756: I external/local_tsl/tsl/framework/bfc_allocator.cc:1062] Bin for 4.09GiB was 256.00MiB, Chunk State: \n",
      "2024-03-14 21:19:01.016764: I external/local_tsl/tsl/framework/bfc_allocator.cc:1068]   Size: 256.00MiB | Requested Size: 256.00MiB | in_use: 0 | bin_num: 20\n",
      "2024-03-14 21:19:01.016768: I external/local_tsl/tsl/framework/bfc_allocator.cc:1068]   Size: 512.00MiB | Requested Size: 256.00MiB | in_use: 0 | bin_num: 20\n",
      "2024-03-14 21:19:01.016772: I external/local_tsl/tsl/framework/bfc_allocator.cc:1068]   Size: 512.00MiB | Requested Size: 64.00MiB | in_use: 0 | bin_num: 20\n",
      "2024-03-14 21:19:01.016778: I external/local_tsl/tsl/framework/bfc_allocator.cc:1068]   Size: 3.00GiB | Requested Size: 4B | in_use: 0 | bin_num: 20, prev:   Size: 928.00MiB | Requested Size: 928.00MiB | in_use: 1 | bin_num: -1\n",
      "2024-03-14 21:19:01.016782: I external/local_tsl/tsl/framework/bfc_allocator.cc:1075] Next region of size 8589934592\n",
      "2024-03-14 21:19:01.016786: I external/local_tsl/tsl/framework/bfc_allocator.cc:1095] InUse at 7febe6000000 of size 4390387712 next 101\n",
      "2024-03-14 21:19:01.016790: I external/local_tsl/tsl/framework/bfc_allocator.cc:1095] InUse at 7fecebb00000 of size 973078528 next 119\n",
      "2024-03-14 21:19:01.016794: I external/local_tsl/tsl/framework/bfc_allocator.cc:1095] Free  at 7fed25b00000 of size 3226468352 next 18446744073709551615\n",
      "2024-03-14 21:19:01.016797: I external/local_tsl/tsl/framework/bfc_allocator.cc:1075] Next region of size 536870912\n",
      "2024-03-14 21:19:01.016800: I external/local_tsl/tsl/framework/bfc_allocator.cc:1095] Free  at 7ff280000000 of size 536870912 next 18446744073709551615\n",
      "2024-03-14 21:19:01.016804: I external/local_tsl/tsl/framework/bfc_allocator.cc:1075] Next region of size 536870912\n",
      "2024-03-14 21:19:01.016807: I external/local_tsl/tsl/framework/bfc_allocator.cc:1095] Free  at 7ff2cc000000 of size 536870912 next 18446744073709551615\n",
      "2024-03-14 21:19:01.016810: I external/local_tsl/tsl/framework/bfc_allocator.cc:1075] Next region of size 268435456\n",
      "2024-03-14 21:19:01.016813: I external/local_tsl/tsl/framework/bfc_allocator.cc:1095] Free  at 7ff2ec000000 of size 268435456 next 18446744073709551615\n",
      "2024-03-14 21:19:01.016817: I external/local_tsl/tsl/framework/bfc_allocator.cc:1075] Next region of size 33554432\n",
      "2024-03-14 21:19:01.016820: I external/local_tsl/tsl/framework/bfc_allocator.cc:1095] Free  at 7ff3ea000000 of size 33554432 next 18446744073709551615\n",
      "2024-03-14 21:19:01.016823: I external/local_tsl/tsl/framework/bfc_allocator.cc:1075] Next region of size 2097152\n",
      "2024-03-14 21:19:01.016826: I external/local_tsl/tsl/framework/bfc_allocator.cc:1095] InUse at 7ff460200000 of size 256 next 1\n",
      "2024-03-14 21:19:01.016830: I external/local_tsl/tsl/framework/bfc_allocator.cc:1095] InUse at 7ff460200100 of size 1280 next 2\n",
      "2024-03-14 21:19:01.016833: I external/local_tsl/tsl/framework/bfc_allocator.cc:1095] InUse at 7ff460200600 of size 256 next 3\n",
      "2024-03-14 21:19:01.016836: I external/local_tsl/tsl/framework/bfc_allocator.cc:1095] InUse at 7ff460200700 of size 256 next 4\n",
      "2024-03-14 21:19:01.016840: I external/local_tsl/tsl/framework/bfc_allocator.cc:1095] InUse at 7ff460200800 of size 256 next 6\n",
      "2024-03-14 21:19:01.016843: I external/local_tsl/tsl/framework/bfc_allocator.cc:1095] InUse at 7ff460200900 of size 256 next 7\n",
      "2024-03-14 21:19:01.016846: I external/local_tsl/tsl/framework/bfc_allocator.cc:1095] InUse at 7ff460200a00 of size 256 next 5\n",
      "2024-03-14 21:19:01.016849: I external/local_tsl/tsl/framework/bfc_allocator.cc:1095] InUse at 7ff460200b00 of size 256 next 8\n",
      "2024-03-14 21:19:01.016852: I external/local_tsl/tsl/framework/bfc_allocator.cc:1095] InUse at 7ff460200c00 of size 256 next 11\n",
      "2024-03-14 21:19:01.016855: I external/local_tsl/tsl/framework/bfc_allocator.cc:1095] InUse at 7ff460200d00 of size 256 next 114\n",
      "2024-03-14 21:19:01.016859: I external/local_tsl/tsl/framework/bfc_allocator.cc:1095] InUse at 7ff460200e00 of size 256 next 9\n",
      "2024-03-14 21:19:01.016862: I external/local_tsl/tsl/framework/bfc_allocator.cc:1095] InUse at 7ff460200f00 of size 512 next 10\n",
      "2024-03-14 21:19:01.016866: I external/local_tsl/tsl/framework/bfc_allocator.cc:1095] InUse at 7ff460201100 of size 256 next 13\n",
      "2024-03-14 21:19:01.016869: I external/local_tsl/tsl/framework/bfc_allocator.cc:1095] InUse at 7ff460201200 of size 256 next 14\n",
      "2024-03-14 21:19:01.016872: I external/local_tsl/tsl/framework/bfc_allocator.cc:1095] InUse at 7ff460201300 of size 256 next 16\n",
      "2024-03-14 21:19:01.016875: I external/local_tsl/tsl/framework/bfc_allocator.cc:1095] InUse at 7ff460201400 of size 256 next 17\n",
      "2024-03-14 21:19:01.016878: I external/local_tsl/tsl/framework/bfc_allocator.cc:1095] InUse at 7ff460201500 of size 256 next 15\n",
      "2024-03-14 21:19:01.016881: I external/local_tsl/tsl/framework/bfc_allocator.cc:1095] InUse at 7ff460201600 of size 256 next 113\n",
      "2024-03-14 21:19:01.016884: I external/local_tsl/tsl/framework/bfc_allocator.cc:1095] InUse at 7ff460201700 of size 256 next 21\n",
      "2024-03-14 21:19:01.016887: I external/local_tsl/tsl/framework/bfc_allocator.cc:1095] InUse at 7ff460201800 of size 256 next 22\n",
      "2024-03-14 21:19:01.016890: I external/local_tsl/tsl/framework/bfc_allocator.cc:1095] InUse at 7ff460201900 of size 256 next 23\n",
      "2024-03-14 21:19:01.016893: I external/local_tsl/tsl/framework/bfc_allocator.cc:1095] InUse at 7ff460201a00 of size 256 next 25\n",
      "2024-03-14 21:19:01.016897: I external/local_tsl/tsl/framework/bfc_allocator.cc:1095] InUse at 7ff460201b00 of size 256 next 26\n",
      "2024-03-14 21:19:01.016900: I external/local_tsl/tsl/framework/bfc_allocator.cc:1095] InUse at 7ff460201c00 of size 256 next 24\n",
      "2024-03-14 21:19:01.016903: I external/local_tsl/tsl/framework/bfc_allocator.cc:1095] InUse at 7ff460201d00 of size 512 next 30\n",
      "2024-03-14 21:19:01.016906: I external/local_tsl/tsl/framework/bfc_allocator.cc:1095] InUse at 7ff460201f00 of size 256 next 27\n",
      "2024-03-14 21:19:01.016909: I external/local_tsl/tsl/framework/bfc_allocator.cc:1095] InUse at 7ff460202000 of size 256 next 29\n",
      "2024-03-14 21:19:01.016912: I external/local_tsl/tsl/framework/bfc_allocator.cc:1095] InUse at 7ff460202100 of size 256 next 35\n",
      "2024-03-14 21:19:01.016915: I external/local_tsl/tsl/framework/bfc_allocator.cc:1095] InUse at 7ff460202200 of size 256 next 33\n",
      "2024-03-14 21:19:01.016918: I external/local_tsl/tsl/framework/bfc_allocator.cc:1095] InUse at 7ff460202300 of size 256 next 34\n",
      "2024-03-14 21:19:01.016921: I external/local_tsl/tsl/framework/bfc_allocator.cc:1095] InUse at 7ff460202400 of size 256 next 39\n",
      "2024-03-14 21:19:01.016924: I external/local_tsl/tsl/framework/bfc_allocator.cc:1095] InUse at 7ff460202500 of size 256 next 40\n",
      "2024-03-14 21:19:01.016927: I external/local_tsl/tsl/framework/bfc_allocator.cc:1095] InUse at 7ff460202600 of size 256 next 38\n",
      "2024-03-14 21:19:01.016930: I external/local_tsl/tsl/framework/bfc_allocator.cc:1095] InUse at 7ff460202700 of size 256 next 41\n",
      "2024-03-14 21:19:01.016933: I external/local_tsl/tsl/framework/bfc_allocator.cc:1095] InUse at 7ff460202800 of size 256 next 44\n",
      "2024-03-14 21:19:01.016936: I external/local_tsl/tsl/framework/bfc_allocator.cc:1095] InUse at 7ff460202900 of size 256 next 47\n",
      "2024-03-14 21:19:01.016939: I external/local_tsl/tsl/framework/bfc_allocator.cc:1095] InUse at 7ff460202a00 of size 256 next 42\n",
      "2024-03-14 21:19:01.016942: I external/local_tsl/tsl/framework/bfc_allocator.cc:1095] InUse at 7ff460202b00 of size 512 next 43\n",
      "2024-03-14 21:19:01.016946: I external/local_tsl/tsl/framework/bfc_allocator.cc:1095] InUse at 7ff460202d00 of size 256 next 46\n",
      "2024-03-14 21:19:01.016949: I external/local_tsl/tsl/framework/bfc_allocator.cc:1095] InUse at 7ff460202e00 of size 512 next 48\n",
      "2024-03-14 21:19:01.016952: I external/local_tsl/tsl/framework/bfc_allocator.cc:1095] InUse at 7ff460203000 of size 512 next 49\n",
      "2024-03-14 21:19:01.016955: I external/local_tsl/tsl/framework/bfc_allocator.cc:1095] InUse at 7ff460203200 of size 256 next 50\n",
      "2024-03-14 21:19:01.016958: I external/local_tsl/tsl/framework/bfc_allocator.cc:1095] InUse at 7ff460203300 of size 256 next 51\n",
      "2024-03-14 21:19:01.016961: I external/local_tsl/tsl/framework/bfc_allocator.cc:1095] InUse at 7ff460203400 of size 256 next 52\n",
      "2024-03-14 21:19:01.016965: I external/local_tsl/tsl/framework/bfc_allocator.cc:1095] InUse at 7ff460203500 of size 256 next 53\n",
      "2024-03-14 21:19:01.016968: I external/local_tsl/tsl/framework/bfc_allocator.cc:1095] InUse at 7ff460203600 of size 256 next 54\n",
      "2024-03-14 21:19:01.016971: I external/local_tsl/tsl/framework/bfc_allocator.cc:1095] InUse at 7ff460203700 of size 256 next 57\n",
      "2024-03-14 21:19:01.016974: I external/local_tsl/tsl/framework/bfc_allocator.cc:1095] InUse at 7ff460203800 of size 256 next 58\n",
      "2024-03-14 21:19:01.016977: I external/local_tsl/tsl/framework/bfc_allocator.cc:1095] InUse at 7ff460203900 of size 256 next 59\n",
      "2024-03-14 21:19:01.016980: I external/local_tsl/tsl/framework/bfc_allocator.cc:1095] InUse at 7ff460203a00 of size 256 next 60\n",
      "2024-03-14 21:19:01.016983: I external/local_tsl/tsl/framework/bfc_allocator.cc:1095] InUse at 7ff460203b00 of size 256 next 61\n",
      "2024-03-14 21:19:01.016986: I external/local_tsl/tsl/framework/bfc_allocator.cc:1095] InUse at 7ff460203c00 of size 256 next 28\n",
      "2024-03-14 21:19:01.016989: I external/local_tsl/tsl/framework/bfc_allocator.cc:1095] InUse at 7ff460203d00 of size 6400 next 19\n",
      "2024-03-14 21:19:01.016993: I external/local_tsl/tsl/framework/bfc_allocator.cc:1095] InUse at 7ff460205600 of size 8192 next 20\n",
      "2024-03-14 21:19:01.016998: I external/local_tsl/tsl/framework/bfc_allocator.cc:1095] InUse at 7ff460207600 of size 8192 next 55\n",
      "2024-03-14 21:19:01.017001: I external/local_tsl/tsl/framework/bfc_allocator.cc:1095] InUse at 7ff460209600 of size 8192 next 56\n",
      "2024-03-14 21:19:01.017005: I external/local_tsl/tsl/framework/bfc_allocator.cc:1095] InUse at 7ff46020b600 of size 4096 next 62\n",
      "2024-03-14 21:19:01.017008: I external/local_tsl/tsl/framework/bfc_allocator.cc:1095] InUse at 7ff46020c600 of size 4096 next 63\n",
      "2024-03-14 21:19:01.017012: I external/local_tsl/tsl/framework/bfc_allocator.cc:1095] InUse at 7ff46020d600 of size 256 next 64\n",
      "2024-03-14 21:19:01.017015: I external/local_tsl/tsl/framework/bfc_allocator.cc:1095] InUse at 7ff46020d700 of size 256 next 65\n",
      "2024-03-14 21:19:01.017018: I external/local_tsl/tsl/framework/bfc_allocator.cc:1095] InUse at 7ff46020d800 of size 512 next 67\n",
      "2024-03-14 21:19:01.017021: I external/local_tsl/tsl/framework/bfc_allocator.cc:1095] InUse at 7ff46020da00 of size 512 next 68\n",
      "2024-03-14 21:19:01.017024: I external/local_tsl/tsl/framework/bfc_allocator.cc:1095] InUse at 7ff46020dc00 of size 256 next 71\n",
      "2024-03-14 21:19:01.017027: I external/local_tsl/tsl/framework/bfc_allocator.cc:1095] InUse at 7ff46020dd00 of size 256 next 72\n",
      "2024-03-14 21:19:01.017030: I external/local_tsl/tsl/framework/bfc_allocator.cc:1095] InUse at 7ff46020de00 of size 512 next 73\n",
      "2024-03-14 21:19:01.017033: I external/local_tsl/tsl/framework/bfc_allocator.cc:1095] InUse at 7ff46020e000 of size 512 next 74\n",
      "2024-03-14 21:19:01.017036: I external/local_tsl/tsl/framework/bfc_allocator.cc:1095] InUse at 7ff46020e200 of size 256 next 75\n",
      "2024-03-14 21:19:01.017039: I external/local_tsl/tsl/framework/bfc_allocator.cc:1095] InUse at 7ff46020e300 of size 256 next 76\n",
      "2024-03-14 21:19:01.017042: I external/local_tsl/tsl/framework/bfc_allocator.cc:1095] Free  at 7ff46020e400 of size 512 next 78\n",
      "2024-03-14 21:19:01.017045: I external/local_tsl/tsl/framework/bfc_allocator.cc:1095] InUse at 7ff46020e600 of size 256 next 79\n",
      "2024-03-14 21:19:01.017049: I external/local_tsl/tsl/framework/bfc_allocator.cc:1095] InUse at 7ff46020e700 of size 256 next 80\n",
      "2024-03-14 21:19:01.017052: I external/local_tsl/tsl/framework/bfc_allocator.cc:1095] InUse at 7ff46020e800 of size 256 next 81\n",
      "2024-03-14 21:19:01.017056: I external/local_tsl/tsl/framework/bfc_allocator.cc:1095] InUse at 7ff46020e900 of size 256 next 82\n",
      "2024-03-14 21:19:01.017059: I external/local_tsl/tsl/framework/bfc_allocator.cc:1095] InUse at 7ff46020ea00 of size 256 next 83\n",
      "2024-03-14 21:19:01.017062: I external/local_tsl/tsl/framework/bfc_allocator.cc:1095] InUse at 7ff46020eb00 of size 256 next 84\n",
      "2024-03-14 21:19:01.017065: I external/local_tsl/tsl/framework/bfc_allocator.cc:1095] InUse at 7ff46020ec00 of size 256 next 115\n",
      "2024-03-14 21:19:01.017068: I external/local_tsl/tsl/framework/bfc_allocator.cc:1095] Free  at 7ff46020ed00 of size 512 next 85\n",
      "2024-03-14 21:19:01.017071: I external/local_tsl/tsl/framework/bfc_allocator.cc:1095] InUse at 7ff46020ef00 of size 256 next 77\n",
      "2024-03-14 21:19:01.017074: I external/local_tsl/tsl/framework/bfc_allocator.cc:1095] InUse at 7ff46020f000 of size 256 next 97\n",
      "2024-03-14 21:19:01.017077: I external/local_tsl/tsl/framework/bfc_allocator.cc:1095] Free  at 7ff46020f100 of size 512 next 123\n",
      "2024-03-14 21:19:01.017081: I external/local_tsl/tsl/framework/bfc_allocator.cc:1095] InUse at 7ff46020f300 of size 256 next 37\n",
      "2024-03-14 21:19:01.017084: I external/local_tsl/tsl/framework/bfc_allocator.cc:1095] InUse at 7ff46020f400 of size 16128 next 36\n",
      "2024-03-14 21:19:01.017088: I external/local_tsl/tsl/framework/bfc_allocator.cc:1095] InUse at 7ff460213300 of size 770816 next 32\n",
      "2024-03-14 21:19:01.017091: I external/local_tsl/tsl/framework/bfc_allocator.cc:1095] InUse at 7ff4602cf600 of size 409600 next 31\n",
      "2024-03-14 21:19:01.017095: I external/local_tsl/tsl/framework/bfc_allocator.cc:1095] InUse at 7ff460333600 of size 409600 next 66\n",
      "2024-03-14 21:19:01.017098: I external/local_tsl/tsl/framework/bfc_allocator.cc:1095] InUse at 7ff460397600 of size 16128 next 69\n",
      "2024-03-14 21:19:01.017102: I external/local_tsl/tsl/framework/bfc_allocator.cc:1095] InUse at 7ff46039b500 of size 16128 next 70\n",
      "2024-03-14 21:19:01.017105: I external/local_tsl/tsl/framework/bfc_allocator.cc:1095] InUse at 7ff46039f400 of size 256 next 100\n",
      "2024-03-14 21:19:01.017109: I external/local_tsl/tsl/framework/bfc_allocator.cc:1095] Free  at 7ff46039f500 of size 256 next 99\n",
      "2024-03-14 21:19:01.017112: I external/local_tsl/tsl/framework/bfc_allocator.cc:1095] InUse at 7ff46039f600 of size 256 next 109\n",
      "2024-03-14 21:19:01.017115: I external/local_tsl/tsl/framework/bfc_allocator.cc:1095] InUse at 7ff46039f700 of size 256 next 95\n",
      "2024-03-14 21:19:01.017118: I external/local_tsl/tsl/framework/bfc_allocator.cc:1095] InUse at 7ff46039f800 of size 50432 next 91\n",
      "2024-03-14 21:19:01.017122: I external/local_tsl/tsl/framework/bfc_allocator.cc:1095] InUse at 7ff4603abd00 of size 11264 next 103\n",
      "2024-03-14 21:19:01.017125: I external/local_tsl/tsl/framework/bfc_allocator.cc:1095] Free  at 7ff4603ae900 of size 256 next 87\n",
      "2024-03-14 21:19:01.017128: I external/local_tsl/tsl/framework/bfc_allocator.cc:1095] InUse at 7ff4603aea00 of size 256 next 86\n",
      "2024-03-14 21:19:01.017132: I external/local_tsl/tsl/framework/bfc_allocator.cc:1095] Free  at 7ff4603aeb00 of size 333056 next 18446744073709551615\n",
      "2024-03-14 21:19:01.017135: I external/local_tsl/tsl/framework/bfc_allocator.cc:1100]      Summary of in-use Chunks by size: \n",
      "2024-03-14 21:19:01.017139: I external/local_tsl/tsl/framework/bfc_allocator.cc:1103] 66 Chunks of size 256 totalling 16.5KiB\n",
      "2024-03-14 21:19:01.017143: I external/local_tsl/tsl/framework/bfc_allocator.cc:1103] 9 Chunks of size 512 totalling 4.5KiB\n",
      "2024-03-14 21:19:01.017147: I external/local_tsl/tsl/framework/bfc_allocator.cc:1103] 1 Chunks of size 1280 totalling 1.2KiB\n",
      "2024-03-14 21:19:01.017150: I external/local_tsl/tsl/framework/bfc_allocator.cc:1103] 2 Chunks of size 4096 totalling 8.0KiB\n",
      "2024-03-14 21:19:01.017154: I external/local_tsl/tsl/framework/bfc_allocator.cc:1103] 1 Chunks of size 6400 totalling 6.2KiB\n",
      "2024-03-14 21:19:01.017157: I external/local_tsl/tsl/framework/bfc_allocator.cc:1103] 3 Chunks of size 8192 totalling 24.0KiB\n",
      "2024-03-14 21:19:01.017161: I external/local_tsl/tsl/framework/bfc_allocator.cc:1103] 1 Chunks of size 11264 totalling 11.0KiB\n",
      "2024-03-14 21:19:01.017165: I external/local_tsl/tsl/framework/bfc_allocator.cc:1103] 3 Chunks of size 16128 totalling 47.2KiB\n",
      "2024-03-14 21:19:01.017169: I external/local_tsl/tsl/framework/bfc_allocator.cc:1103] 1 Chunks of size 50432 totalling 49.2KiB\n",
      "2024-03-14 21:19:01.017172: I external/local_tsl/tsl/framework/bfc_allocator.cc:1103] 2 Chunks of size 409600 totalling 800.0KiB\n",
      "2024-03-14 21:19:01.017176: I external/local_tsl/tsl/framework/bfc_allocator.cc:1103] 1 Chunks of size 770816 totalling 752.8KiB\n",
      "2024-03-14 21:19:01.017180: I external/local_tsl/tsl/framework/bfc_allocator.cc:1103] 1 Chunks of size 973078528 totalling 928.00MiB\n",
      "2024-03-14 21:19:01.017184: I external/local_tsl/tsl/framework/bfc_allocator.cc:1103] 1 Chunks of size 4390387712 totalling 4.09GiB\n",
      "2024-03-14 21:19:01.017188: I external/local_tsl/tsl/framework/bfc_allocator.cc:1107] Sum Total of in-use chunks: 5.00GiB\n",
      "2024-03-14 21:19:01.017191: I external/local_tsl/tsl/framework/bfc_allocator.cc:1109] Total bytes in pool: 9967763456 memory_limit_: 10615193600 available bytes: 647430144 curr_region_allocation_bytes_: 8589934592\n",
      "2024-03-14 21:19:01.017198: I external/local_tsl/tsl/framework/bfc_allocator.cc:1114] Stats: \n",
      "Limit:                     10615193600\n",
      "InUse:                      5365228288\n",
      "MaxInUse:                   6444307200\n",
      "NumAllocs:                      292708\n",
      "MaxAllocSize:               4390387712\n",
      "Reserved:                            0\n",
      "PeakReserved:                        0\n",
      "LargestFreeBlock:                    0\n",
      "\n",
      "2024-03-14 21:19:01.017205: W external/local_tsl/tsl/framework/bfc_allocator.cc:497] ******************************************************_____________________________________________*\n"
     ]
    },
    {
     "ename": "InternalError",
     "evalue": "Failed copying input tensor from /job:localhost/replica:0/task:0/device:CPU:0 to /job:localhost/replica:0/task:0/device:GPU:0 in order to run _EagerConst: Dst tensor is not initialized.",
     "output_type": "error",
     "traceback": [
      "\u001b[0;31m---------------------------------------------------------------------------\u001b[0m",
      "\u001b[0;31mInternalError\u001b[0m                             Traceback (most recent call last)",
      "Cell \u001b[0;32mIn[25], line 1\u001b[0m\n\u001b[0;32m----> 1\u001b[0m \u001b[38;5;28mprint\u001b[39m(\u001b[38;5;124m\"\u001b[39m\u001b[38;5;124mAccuracy of the model in trainig dataset - \u001b[39m\u001b[38;5;124m\"\u001b[39m , model\u001b[38;5;241m.\u001b[39mevaluate(X_train,y_train_tensor)[\u001b[38;5;241m1\u001b[39m]\u001b[38;5;241m*\u001b[39m\u001b[38;5;241m100\u001b[39m , \u001b[38;5;124m\"\u001b[39m\u001b[38;5;124m%\u001b[39m\u001b[38;5;124m\"\u001b[39m)\n",
      "File \u001b[0;32m~/anaconda3/lib/python3.11/site-packages/keras/src/utils/traceback_utils.py:70\u001b[0m, in \u001b[0;36mfilter_traceback.<locals>.error_handler\u001b[0;34m(*args, **kwargs)\u001b[0m\n\u001b[1;32m     67\u001b[0m     filtered_tb \u001b[38;5;241m=\u001b[39m _process_traceback_frames(e\u001b[38;5;241m.\u001b[39m__traceback__)\n\u001b[1;32m     68\u001b[0m     \u001b[38;5;66;03m# To get the full stack trace, call:\u001b[39;00m\n\u001b[1;32m     69\u001b[0m     \u001b[38;5;66;03m# `tf.debugging.disable_traceback_filtering()`\u001b[39;00m\n\u001b[0;32m---> 70\u001b[0m     \u001b[38;5;28;01mraise\u001b[39;00m e\u001b[38;5;241m.\u001b[39mwith_traceback(filtered_tb) \u001b[38;5;28;01mfrom\u001b[39;00m \u001b[38;5;28;01mNone\u001b[39;00m\n\u001b[1;32m     71\u001b[0m \u001b[38;5;28;01mfinally\u001b[39;00m:\n\u001b[1;32m     72\u001b[0m     \u001b[38;5;28;01mdel\u001b[39;00m filtered_tb\n",
      "File \u001b[0;32m~/anaconda3/lib/python3.11/site-packages/tensorflow/python/framework/constant_op.py:103\u001b[0m, in \u001b[0;36mconvert_to_eager_tensor\u001b[0;34m(value, ctx, dtype)\u001b[0m\n\u001b[1;32m    101\u001b[0m     dtype \u001b[38;5;241m=\u001b[39m dtypes\u001b[38;5;241m.\u001b[39mas_dtype(dtype)\u001b[38;5;241m.\u001b[39mas_datatype_enum\n\u001b[1;32m    102\u001b[0m ctx\u001b[38;5;241m.\u001b[39mensure_initialized()\n\u001b[0;32m--> 103\u001b[0m \u001b[38;5;28;01mreturn\u001b[39;00m ops\u001b[38;5;241m.\u001b[39mEagerTensor(value, ctx\u001b[38;5;241m.\u001b[39mdevice_name, dtype)\n",
      "\u001b[0;31mInternalError\u001b[0m: Failed copying input tensor from /job:localhost/replica:0/task:0/device:CPU:0 to /job:localhost/replica:0/task:0/device:GPU:0 in order to run _EagerConst: Dst tensor is not initialized."
     ]
    }
   ],
   "source": [
    "print(\"Accuracy of the model in trainig dataset - \" , model.evaluate(X_train,y_train_tensor)[1]*100 , \"%\")"
   ]
  },
  {
   "cell_type": "code",
   "execution_count": 26,
   "id": "355991df",
   "metadata": {},
   "outputs": [
    {
     "name": "stderr",
     "output_type": "stream",
     "text": [
      "2024-03-14 21:20:22.019441: W external/local_tsl/tsl/framework/bfc_allocator.cc:485] Allocator (GPU_0_bfc) ran out of memory trying to allocate 4.09GiB (rounded to 4390387712)requested by op _EagerConst\n",
      "If the cause is memory fragmentation maybe the environment variable 'TF_GPU_ALLOCATOR=cuda_malloc_async' will improve the situation. \n",
      "Current allocation summary follows.\n",
      "Current allocation summary follows.\n",
      "2024-03-14 21:20:22.019480: I external/local_tsl/tsl/framework/bfc_allocator.cc:1039] BFCAllocator dump for GPU_0_bfc\n",
      "2024-03-14 21:20:22.019489: I external/local_tsl/tsl/framework/bfc_allocator.cc:1046] Bin (256): \tTotal Chunks: 68, Chunks in use: 66. 17.0KiB allocated for chunks. 16.5KiB in use in bin. 2.9KiB client-requested in use in bin.\n",
      "2024-03-14 21:20:22.019494: I external/local_tsl/tsl/framework/bfc_allocator.cc:1046] Bin (512): \tTotal Chunks: 12, Chunks in use: 9. 6.0KiB allocated for chunks. 4.5KiB in use in bin. 4.1KiB client-requested in use in bin.\n",
      "2024-03-14 21:20:22.019499: I external/local_tsl/tsl/framework/bfc_allocator.cc:1046] Bin (1024): \tTotal Chunks: 1, Chunks in use: 1. 1.2KiB allocated for chunks. 1.2KiB in use in bin. 1.0KiB client-requested in use in bin.\n",
      "2024-03-14 21:20:22.019503: I external/local_tsl/tsl/framework/bfc_allocator.cc:1046] Bin (2048): \tTotal Chunks: 0, Chunks in use: 0. 0B allocated for chunks. 0B in use in bin. 0B client-requested in use in bin.\n",
      "2024-03-14 21:20:22.019508: I external/local_tsl/tsl/framework/bfc_allocator.cc:1046] Bin (4096): \tTotal Chunks: 3, Chunks in use: 3. 14.2KiB allocated for chunks. 14.2KiB in use in bin. 12.0KiB client-requested in use in bin.\n",
      "2024-03-14 21:20:22.019512: I external/local_tsl/tsl/framework/bfc_allocator.cc:1046] Bin (8192): \tTotal Chunks: "
     ]
    },
    {
     "ename": "InternalError",
     "evalue": "Failed copying input tensor from /job:localhost/replica:0/task:0/device:CPU:0 to /job:localhost/replica:0/task:0/device:GPU:0 in order to run _EagerConst: Dst tensor is not initialized.",
     "output_type": "error",
     "traceback": [
      "\u001b[0;31m---------------------------------------------------------------------------\u001b[0m",
      "\u001b[0;31mInternalError\u001b[0m                             Traceback (most recent call last)",
      "Cell \u001b[0;32mIn[26], line 1\u001b[0m\n\u001b[0;32m----> 1\u001b[0m model\u001b[38;5;241m.\u001b[39mevaluate(X_train,y_train_tensor)\n",
      "File \u001b[0;32m~/anaconda3/lib/python3.11/site-packages/keras/src/utils/traceback_utils.py:70\u001b[0m, in \u001b[0;36mfilter_traceback.<locals>.error_handler\u001b[0;34m(*args, **kwargs)\u001b[0m\n\u001b[1;32m     67\u001b[0m     filtered_tb \u001b[38;5;241m=\u001b[39m _process_traceback_frames(e\u001b[38;5;241m.\u001b[39m__traceback__)\n\u001b[1;32m     68\u001b[0m     \u001b[38;5;66;03m# To get the full stack trace, call:\u001b[39;00m\n\u001b[1;32m     69\u001b[0m     \u001b[38;5;66;03m# `tf.debugging.disable_traceback_filtering()`\u001b[39;00m\n\u001b[0;32m---> 70\u001b[0m     \u001b[38;5;28;01mraise\u001b[39;00m e\u001b[38;5;241m.\u001b[39mwith_traceback(filtered_tb) \u001b[38;5;28;01mfrom\u001b[39;00m \u001b[38;5;28;01mNone\u001b[39;00m\n\u001b[1;32m     71\u001b[0m \u001b[38;5;28;01mfinally\u001b[39;00m:\n\u001b[1;32m     72\u001b[0m     \u001b[38;5;28;01mdel\u001b[39;00m filtered_tb\n",
      "File \u001b[0;32m~/anaconda3/lib/python3.11/site-packages/tensorflow/python/framework/constant_op.py:103\u001b[0m, in \u001b[0;36mconvert_to_eager_tensor\u001b[0;34m(value, ctx, dtype)\u001b[0m\n\u001b[1;32m    101\u001b[0m     dtype \u001b[38;5;241m=\u001b[39m dtypes\u001b[38;5;241m.\u001b[39mas_dtype(dtype)\u001b[38;5;241m.\u001b[39mas_datatype_enum\n\u001b[1;32m    102\u001b[0m ctx\u001b[38;5;241m.\u001b[39mensure_initialized()\n\u001b[0;32m--> 103\u001b[0m \u001b[38;5;28;01mreturn\u001b[39;00m ops\u001b[38;5;241m.\u001b[39mEagerTensor(value, ctx\u001b[38;5;241m.\u001b[39mdevice_name, dtype)\n",
      "\u001b[0;31mInternalError\u001b[0m: Failed copying input tensor from /job:localhost/replica:0/task:0/device:CPU:0 to /job:localhost/replica:0/task:0/device:GPU:0 in order to run _EagerConst: Dst tensor is not initialized."
     ]
    },
    {
     "name": "stderr",
     "output_type": "stream",
     "text": [
      "7, Chunks in use: 7. 82.2KiB allocated for chunks. 82.2KiB in use in bin. 81.8KiB client-requested in use in bin.\n",
      "2024-03-14 21:20:22.019516: I external/local_tsl/tsl/framework/bfc_allocator.cc:1046] Bin (16384): \tTotal Chunks: 0, Chunks in use: 0. 0B allocated for chunks. 0B in use in bin. 0B client-requested in use in bin.\n",
      "2024-03-14 21:20:22.019520: I external/local_tsl/tsl/framework/bfc_allocator.cc:1046] Bin (32768): \tTotal Chunks: 1, Chunks in use: 1. 49.2KiB allocated for chunks. 49.2KiB in use in bin. 49.1KiB client-requested in use in bin.\n",
      "2024-03-14 21:20:22.019523: I external/local_tsl/tsl/framework/bfc_allocator.cc:1046] Bin (65536): \tTotal Chunks: 0, Chunks in use: 0. 0B allocated for chunks. 0B in use in bin. 0B client-requested in use in bin.\n",
      "2024-03-14 21:20:22.019526: I external/local_tsl/tsl/framework/bfc_allocator.cc:1046] Bin (131072): \tTotal Chunks: 0, Chunks in use: 0. 0B allocated for chunks. 0B in use in bin. 0B client-requested in use in bin.\n",
      "2024-03-14 21:20:22.019531: I external/local_tsl/tsl/framework/bfc_allocator.cc:1046] Bin (262144): \tTotal Chunks: 3, Chunks in use: 2. 1.10MiB allocated for chunks. 800.0KiB in use in bin. 800.0KiB client-requested in use in bin.\n",
      "2024-03-14 21:20:22.019535: I external/local_tsl/tsl/framework/bfc_allocator.cc:1046] Bin (524288): \tTotal Chunks: 1, Chunks in use: 1. 752.8KiB allocated for chunks. 752.8KiB in use in bin. 400.0KiB client-requested in use in bin.\n",
      "2024-03-14 21:20:22.019538: I external/local_tsl/tsl/framework/bfc_allocator.cc:1046] Bin (1048576): \tTotal Chunks: 0, Chunks in use: 0. 0B allocated for chunks. 0B in use in bin. 0B client-requested in use in bin.\n",
      "2024-03-14 21:20:22.019542: I external/local_tsl/tsl/framework/bfc_allocator.cc:1046] Bin (2097152): \tTotal Chunks: 0, Chunks in use: 0. 0B allocated for chunks. 0B in use in bin. 0B client-requested in use in bin.\n",
      "2024-03-14 21:20:22.019545: I external/local_tsl/tsl/framework/bfc_allocator.cc:1046] Bin (4194304): \tTotal Chunks: 0, Chunks in use: 0. 0B allocated for chunks. 0B in use in bin. 0B client-requested in use in bin.\n",
      "2024-03-14 21:20:22.019548: I external/local_tsl/tsl/framework/bfc_allocator.cc:1046] Bin (8388608): \tTotal Chunks: 0, Chunks in use: 0. 0B allocated for chunks. 0B in use in bin. 0B client-requested in use in bin.\n",
      "2024-03-14 21:20:22.019552: I external/local_tsl/tsl/framework/bfc_allocator.cc:1046] Bin (16777216): \tTotal Chunks: 0, Chunks in use: 0. 0B allocated for chunks. 0B in use in bin. 0B client-requested in use in bin.\n",
      "2024-03-14 21:20:22.019556: I external/local_tsl/tsl/framework/bfc_allocator.cc:1046] Bin (33554432): \tTotal Chunks: 1, Chunks in use: 0. 32.00MiB allocated for chunks. 0B in use in bin. 0B client-requested in use in bin.\n",
      "2024-03-14 21:20:22.019559: I external/local_tsl/tsl/framework/bfc_allocator.cc:1046] Bin (67108864): \tTotal Chunks: 0, Chunks in use: 0. 0B allocated for chunks. 0B in use in bin. 0B client-requested in use in bin.\n",
      "2024-03-14 21:20:22.019562: I external/local_tsl/tsl/framework/bfc_allocator.cc:1046] Bin (134217728): \tTotal Chunks: 0, Chunks in use: 0. 0B allocated for chunks. 0B in use in bin. 0B client-requested in use in bin.\n",
      "2024-03-14 21:20:22.019574: I external/local_tsl/tsl/framework/bfc_allocator.cc:1046] Bin (268435456): \tTotal Chunks: 6, Chunks in use: 2. 9.25GiB allocated for chunks. 5.00GiB in use in bin. 5.00GiB client-requested in use in bin.\n",
      "2024-03-14 21:20:22.019578: I external/local_tsl/tsl/framework/bfc_allocator.cc:1062] Bin for 4.09GiB was 256.00MiB, Chunk State: \n",
      "2024-03-14 21:20:22.019585: I external/local_tsl/tsl/framework/bfc_allocator.cc:1068]   Size: 256.00MiB | Requested Size: 256.00MiB | in_use: 0 | bin_num: 20\n",
      "2024-03-14 21:20:22.019589: I external/local_tsl/tsl/framework/bfc_allocator.cc:1068]   Size: 512.00MiB | Requested Size: 256.00MiB | in_use: 0 | bin_num: 20\n",
      "2024-03-14 21:20:22.019593: I external/local_tsl/tsl/framework/bfc_allocator.cc:1068]   Size: 512.00MiB | Requested Size: 64.00MiB | in_use: 0 | bin_num: 20\n",
      "2024-03-14 21:20:22.019598: I external/local_tsl/tsl/framework/bfc_allocator.cc:1068]   Size: 3.00GiB | Requested Size: 4B | in_use: 0 | bin_num: 20, prev:   Size: 928.00MiB | Requested Size: 928.00MiB | in_use: 1 | bin_num: -1\n",
      "2024-03-14 21:20:22.019601: I external/local_tsl/tsl/framework/bfc_allocator.cc:1075] Next region of size 8589934592\n",
      "2024-03-14 21:20:22.019605: I external/local_tsl/tsl/framework/bfc_allocator.cc:1095] InUse at 7febe6000000 of size 4390387712 next 101\n",
      "2024-03-14 21:20:22.019609: I external/local_tsl/tsl/framework/bfc_allocator.cc:1095] InUse at 7fecebb00000 of size 973078528 next 119\n",
      "2024-03-14 21:20:22.019612: I external/local_tsl/tsl/framework/bfc_allocator.cc:1095] Free  at 7fed25b00000 of size 3226468352 next 18446744073709551615\n",
      "2024-03-14 21:20:22.019615: I external/local_tsl/tsl/framework/bfc_allocator.cc:1075] Next region of size 536870912\n",
      "2024-03-14 21:20:22.019618: I external/local_tsl/tsl/framework/bfc_allocator.cc:1095] Free  at 7ff280000000 of size 536870912 next 18446744073709551615\n",
      "2024-03-14 21:20:22.019620: I external/local_tsl/tsl/framework/bfc_allocator.cc:1075] Next region of size 536870912\n",
      "2024-03-14 21:20:22.019623: I external/local_tsl/tsl/framework/bfc_allocator.cc:1095] Free  at 7ff2cc000000 of size 536870912 next 18446744073709551615\n",
      "2024-03-14 21:20:22.019626: I external/local_tsl/tsl/framework/bfc_allocator.cc:1075] Next region of size 268435456\n",
      "2024-03-14 21:20:22.019629: I external/local_tsl/tsl/framework/bfc_allocator.cc:1095] Free  at 7ff2ec000000 of size 268435456 next 18446744073709551615\n",
      "2024-03-14 21:20:22.019632: I external/local_tsl/tsl/framework/bfc_allocator.cc:1075] Next region of size 33554432\n",
      "2024-03-14 21:20:22.019634: I external/local_tsl/tsl/framework/bfc_allocator.cc:1095] Free  at 7ff3ea000000 of size 33554432 next 18446744073709551615\n",
      "2024-03-14 21:20:22.019637: I external/local_tsl/tsl/framework/bfc_allocator.cc:1075] Next region of size 2097152\n",
      "2024-03-14 21:20:22.019640: I external/local_tsl/tsl/framework/bfc_allocator.cc:1095] InUse at 7ff460200000 of size 256 next 1\n",
      "2024-03-14 21:20:22.019643: I external/local_tsl/tsl/framework/bfc_allocator.cc:1095] InUse at 7ff460200100 of size 1280 next 2\n",
      "2024-03-14 21:20:22.019646: I external/local_tsl/tsl/framework/bfc_allocator.cc:1095] InUse at 7ff460200600 of size 256 next 3\n",
      "2024-03-14 21:20:22.019649: I external/local_tsl/tsl/framework/bfc_allocator.cc:1095] InUse at 7ff460200700 of size 256 next 4\n",
      "2024-03-14 21:20:22.019651: I external/local_tsl/tsl/framework/bfc_allocator.cc:1095] InUse at 7ff460200800 of size 256 next 6\n",
      "2024-03-14 21:20:22.019654: I external/local_tsl/tsl/framework/bfc_allocator.cc:1095] InUse at 7ff460200900 of size 256 next 7\n",
      "2024-03-14 21:20:22.019657: I external/local_tsl/tsl/framework/bfc_allocator.cc:1095] InUse at 7ff460200a00 of size 256 next 5\n",
      "2024-03-14 21:20:22.019659: I external/local_tsl/tsl/framework/bfc_allocator.cc:1095] InUse at 7ff460200b00 of size 256 next 8\n",
      "2024-03-14 21:20:22.019662: I external/local_tsl/tsl/framework/bfc_allocator.cc:1095] InUse at 7ff460200c00 of size 256 next 11\n",
      "2024-03-14 21:20:22.019665: I external/local_tsl/tsl/framework/bfc_allocator.cc:1095] InUse at 7ff460200d00 of size 256 next 114\n",
      "2024-03-14 21:20:22.019669: I external/local_tsl/tsl/framework/bfc_allocator.cc:1095] InUse at 7ff460200e00 of size 256 next 9\n",
      "2024-03-14 21:20:22.019672: I external/local_tsl/tsl/framework/bfc_allocator.cc:1095] InUse at 7ff460200f00 of size 512 next 10\n",
      "2024-03-14 21:20:22.019674: I external/local_tsl/tsl/framework/bfc_allocator.cc:1095] InUse at 7ff460201100 of size 256 next 13\n",
      "2024-03-14 21:20:22.019677: I external/local_tsl/tsl/framework/bfc_allocator.cc:1095] InUse at 7ff460201200 of size 256 next 14\n",
      "2024-03-14 21:20:22.019680: I external/local_tsl/tsl/framework/bfc_allocator.cc:1095] InUse at 7ff460201300 of size 256 next 16\n",
      "2024-03-14 21:20:22.019682: I external/local_tsl/tsl/framework/bfc_allocator.cc:1095] InUse at 7ff460201400 of size 256 next 17\n",
      "2024-03-14 21:20:22.019685: I external/local_tsl/tsl/framework/bfc_allocator.cc:1095] InUse at 7ff460201500 of size 256 next 15\n",
      "2024-03-14 21:20:22.019688: I external/local_tsl/tsl/framework/bfc_allocator.cc:1095] InUse at 7ff460201600 of size 256 next 113\n",
      "2024-03-14 21:20:22.019691: I external/local_tsl/tsl/framework/bfc_allocator.cc:1095] InUse at 7ff460201700 of size 256 next 21\n",
      "2024-03-14 21:20:22.019693: I external/local_tsl/tsl/framework/bfc_allocator.cc:1095] InUse at 7ff460201800 of size 256 next 22\n",
      "2024-03-14 21:20:22.019696: I external/local_tsl/tsl/framework/bfc_allocator.cc:1095] InUse at 7ff460201900 of size 256 next 23\n",
      "2024-03-14 21:20:22.019699: I external/local_tsl/tsl/framework/bfc_allocator.cc:1095] InUse at 7ff460201a00 of size 256 next 25\n",
      "2024-03-14 21:20:22.019701: I external/local_tsl/tsl/framework/bfc_allocator.cc:1095] InUse at 7ff460201b00 of size 256 next 26\n",
      "2024-03-14 21:20:22.019704: I external/local_tsl/tsl/framework/bfc_allocator.cc:1095] InUse at 7ff460201c00 of size 256 next 24\n",
      "2024-03-14 21:20:22.019707: I external/local_tsl/tsl/framework/bfc_allocator.cc:1095] InUse at 7ff460201d00 of size 512 next 30\n",
      "2024-03-14 21:20:22.019709: I external/local_tsl/tsl/framework/bfc_allocator.cc:1095] InUse at 7ff460201f00 of size 256 next 27\n",
      "2024-03-14 21:20:22.019712: I external/local_tsl/tsl/framework/bfc_allocator.cc:1095] InUse at 7ff460202000 of size 256 next 29\n",
      "2024-03-14 21:20:22.019715: I external/local_tsl/tsl/framework/bfc_allocator.cc:1095] InUse at 7ff460202100 of size 256 next 35\n",
      "2024-03-14 21:20:22.019717: I external/local_tsl/tsl/framework/bfc_allocator.cc:1095] InUse at 7ff460202200 of size 256 next 33\n",
      "2024-03-14 21:20:22.019720: I external/local_tsl/tsl/framework/bfc_allocator.cc:1095] InUse at 7ff460202300 of size 256 next 34\n",
      "2024-03-14 21:20:22.019723: I external/local_tsl/tsl/framework/bfc_allocator.cc:1095] InUse at 7ff460202400 of size 256 next 39\n",
      "2024-03-14 21:20:22.019725: I external/local_tsl/tsl/framework/bfc_allocator.cc:1095] InUse at 7ff460202500 of size 256 next 40\n",
      "2024-03-14 21:20:22.019728: I external/local_tsl/tsl/framework/bfc_allocator.cc:1095] InUse at 7ff460202600 of size 256 next 38\n",
      "2024-03-14 21:20:22.019731: I external/local_tsl/tsl/framework/bfc_allocator.cc:1095] InUse at 7ff460202700 of size 256 next 41\n",
      "2024-03-14 21:20:22.019733: I external/local_tsl/tsl/framework/bfc_allocator.cc:1095] InUse at 7ff460202800 of size 256 next 44\n",
      "2024-03-14 21:20:22.019736: I external/local_tsl/tsl/framework/bfc_allocator.cc:1095] InUse at 7ff460202900 of size 256 next 47\n",
      "2024-03-14 21:20:22.019739: I external/local_tsl/tsl/framework/bfc_allocator.cc:1095] InUse at 7ff460202a00 of size 256 next 42\n",
      "2024-03-14 21:20:22.019741: I external/local_tsl/tsl/framework/bfc_allocator.cc:1095] InUse at 7ff460202b00 of size 512 next 43\n",
      "2024-03-14 21:20:22.019744: I external/local_tsl/tsl/framework/bfc_allocator.cc:1095] InUse at 7ff460202d00 of size 256 next 46\n",
      "2024-03-14 21:20:22.019747: I external/local_tsl/tsl/framework/bfc_allocator.cc:1095] InUse at 7ff460202e00 of size 512 next 48\n",
      "2024-03-14 21:20:22.019749: I external/local_tsl/tsl/framework/bfc_allocator.cc:1095] InUse at 7ff460203000 of size 512 next 49\n",
      "2024-03-14 21:20:22.019753: I external/local_tsl/tsl/framework/bfc_allocator.cc:1095] InUse at 7ff460203200 of size 256 next 50\n",
      "2024-03-14 21:20:22.019755: I external/local_tsl/tsl/framework/bfc_allocator.cc:1095] InUse at 7ff460203300 of size 256 next 51\n",
      "2024-03-14 21:20:22.019758: I external/local_tsl/tsl/framework/bfc_allocator.cc:1095] InUse at 7ff460203400 of size 256 next 52\n",
      "2024-03-14 21:20:22.019761: I external/local_tsl/tsl/framework/bfc_allocator.cc:1095] InUse at 7ff460203500 of size 256 next 53\n",
      "2024-03-14 21:20:22.019763: I external/local_tsl/tsl/framework/bfc_allocator.cc:1095] InUse at 7ff460203600 of size 256 next 54\n",
      "2024-03-14 21:20:22.019766: I external/local_tsl/tsl/framework/bfc_allocator.cc:1095] InUse at 7ff460203700 of size 256 next 57\n",
      "2024-03-14 21:20:22.019769: I external/local_tsl/tsl/framework/bfc_allocator.cc:1095] InUse at 7ff460203800 of size 256 next 58\n",
      "2024-03-14 21:20:22.019771: I external/local_tsl/tsl/framework/bfc_allocator.cc:1095] InUse at 7ff460203900 of size 256 next 59\n",
      "2024-03-14 21:20:22.019774: I external/local_tsl/tsl/framework/bfc_allocator.cc:1095] InUse at 7ff460203a00 of size 256 next 60\n",
      "2024-03-14 21:20:22.019777: I external/local_tsl/tsl/framework/bfc_allocator.cc:1095] InUse at 7ff460203b00 of size 256 next 61\n",
      "2024-03-14 21:20:22.019779: I external/local_tsl/tsl/framework/bfc_allocator.cc:1095] InUse at 7ff460203c00 of size 256 next 28\n",
      "2024-03-14 21:20:22.019782: I external/local_tsl/tsl/framework/bfc_allocator.cc:1095] InUse at 7ff460203d00 of size 6400 next 19\n",
      "2024-03-14 21:20:22.019786: I external/local_tsl/tsl/framework/bfc_allocator.cc:1095] InUse at 7ff460205600 of size 8192 next 20\n",
      "2024-03-14 21:20:22.019789: I external/local_tsl/tsl/framework/bfc_allocator.cc:1095] InUse at 7ff460207600 of size 8192 next 55\n",
      "2024-03-14 21:20:22.019791: I external/local_tsl/tsl/framework/bfc_allocator.cc:1095] InUse at 7ff460209600 of size 8192 next 56\n",
      "2024-03-14 21:20:22.019794: I external/local_tsl/tsl/framework/bfc_allocator.cc:1095] InUse at 7ff46020b600 of size 4096 next 62\n",
      "2024-03-14 21:20:22.019799: I external/local_tsl/tsl/framework/bfc_allocator.cc:1095] InUse at 7ff46020c600 of size 4096 next 63\n",
      "2024-03-14 21:20:22.019802: I external/local_tsl/tsl/framework/bfc_allocator.cc:1095] InUse at 7ff46020d600 of size 256 next 64\n",
      "2024-03-14 21:20:22.019804: I external/local_tsl/tsl/framework/bfc_allocator.cc:1095] InUse at 7ff46020d700 of size 256 next 65\n",
      "2024-03-14 21:20:22.019807: I external/local_tsl/tsl/framework/bfc_allocator.cc:1095] InUse at 7ff46020d800 of size 512 next 67\n",
      "2024-03-14 21:20:22.019810: I external/local_tsl/tsl/framework/bfc_allocator.cc:1095] InUse at 7ff46020da00 of size 512 next 68\n",
      "2024-03-14 21:20:22.019812: I external/local_tsl/tsl/framework/bfc_allocator.cc:1095] InUse at 7ff46020dc00 of size 256 next 71\n",
      "2024-03-14 21:20:22.019815: I external/local_tsl/tsl/framework/bfc_allocator.cc:1095] InUse at 7ff46020dd00 of size 256 next 72\n",
      "2024-03-14 21:20:22.019818: I external/local_tsl/tsl/framework/bfc_allocator.cc:1095] InUse at 7ff46020de00 of size 512 next 73\n",
      "2024-03-14 21:20:22.019821: I external/local_tsl/tsl/framework/bfc_allocator.cc:1095] InUse at 7ff46020e000 of size 512 next 74\n",
      "2024-03-14 21:20:22.019823: I external/local_tsl/tsl/framework/bfc_allocator.cc:1095] InUse at 7ff46020e200 of size 256 next 75\n",
      "2024-03-14 21:20:22.019826: I external/local_tsl/tsl/framework/bfc_allocator.cc:1095] InUse at 7ff46020e300 of size 256 next 76\n",
      "2024-03-14 21:20:22.019829: I external/local_tsl/tsl/framework/bfc_allocator.cc:1095] Free  at 7ff46020e400 of size 512 next 78\n",
      "2024-03-14 21:20:22.019831: I external/local_tsl/tsl/framework/bfc_allocator.cc:1095] InUse at 7ff46020e600 of size 256 next 79\n",
      "2024-03-14 21:20:22.019834: I external/local_tsl/tsl/framework/bfc_allocator.cc:1095] InUse at 7ff46020e700 of size 256 next 80\n",
      "2024-03-14 21:20:22.019837: I external/local_tsl/tsl/framework/bfc_allocator.cc:1095] InUse at 7ff46020e800 of size 256 next 81\n",
      "2024-03-14 21:20:22.019840: I external/local_tsl/tsl/framework/bfc_allocator.cc:1095] InUse at 7ff46020e900 of size 256 next 82\n",
      "2024-03-14 21:20:22.019843: I external/local_tsl/tsl/framework/bfc_allocator.cc:1095] InUse at 7ff46020ea00 of size 256 next 83\n",
      "2024-03-14 21:20:22.019846: I external/local_tsl/tsl/framework/bfc_allocator.cc:1095] InUse at 7ff46020eb00 of size 256 next 84\n",
      "2024-03-14 21:20:22.019848: I external/local_tsl/tsl/framework/bfc_allocator.cc:1095] InUse at 7ff46020ec00 of size 256 next 115\n",
      "2024-03-14 21:20:22.019851: I external/local_tsl/tsl/framework/bfc_allocator.cc:1095] Free  at 7ff46020ed00 of size 512 next 85\n",
      "2024-03-14 21:20:22.019854: I external/local_tsl/tsl/framework/bfc_allocator.cc:1095] InUse at 7ff46020ef00 of size 256 next 77\n",
      "2024-03-14 21:20:22.019857: I external/local_tsl/tsl/framework/bfc_allocator.cc:1095] InUse at 7ff46020f000 of size 256 next 97\n",
      "2024-03-14 21:20:22.019859: I external/local_tsl/tsl/framework/bfc_allocator.cc:1095] Free  at 7ff46020f100 of size 512 next 123\n",
      "2024-03-14 21:20:22.019862: I external/local_tsl/tsl/framework/bfc_allocator.cc:1095] InUse at 7ff46020f300 of size 256 next 37\n",
      "2024-03-14 21:20:22.019865: I external/local_tsl/tsl/framework/bfc_allocator.cc:1095] InUse at 7ff46020f400 of size 16128 next 36\n",
      "2024-03-14 21:20:22.019868: I external/local_tsl/tsl/framework/bfc_allocator.cc:1095] InUse at 7ff460213300 of size 770816 next 32\n",
      "2024-03-14 21:20:22.019871: I external/local_tsl/tsl/framework/bfc_allocator.cc:1095] InUse at 7ff4602cf600 of size 409600 next 31\n",
      "2024-03-14 21:20:22.019874: I external/local_tsl/tsl/framework/bfc_allocator.cc:1095] InUse at 7ff460333600 of size 409600 next 66\n",
      "2024-03-14 21:20:22.019877: I external/local_tsl/tsl/framework/bfc_allocator.cc:1095] InUse at 7ff460397600 of size 16128 next 69\n",
      "2024-03-14 21:20:22.019880: I external/local_tsl/tsl/framework/bfc_allocator.cc:1095] InUse at 7ff46039b500 of size 16128 next 70\n",
      "2024-03-14 21:20:22.019883: I external/local_tsl/tsl/framework/bfc_allocator.cc:1095] InUse at 7ff46039f400 of size 256 next 100\n",
      "2024-03-14 21:20:22.019886: I external/local_tsl/tsl/framework/bfc_allocator.cc:1095] Free  at 7ff46039f500 of size 256 next 99\n",
      "2024-03-14 21:20:22.019889: I external/local_tsl/tsl/framework/bfc_allocator.cc:1095] InUse at 7ff46039f600 of size 256 next 109\n",
      "2024-03-14 21:20:22.019892: I external/local_tsl/tsl/framework/bfc_allocator.cc:1095] InUse at 7ff46039f700 of size 256 next 95\n",
      "2024-03-14 21:20:22.019895: I external/local_tsl/tsl/framework/bfc_allocator.cc:1095] InUse at 7ff46039f800 of size 50432 next 91\n",
      "2024-03-14 21:20:22.019898: I external/local_tsl/tsl/framework/bfc_allocator.cc:1095] InUse at 7ff4603abd00 of size 11264 next 103\n",
      "2024-03-14 21:20:22.019901: I external/local_tsl/tsl/framework/bfc_allocator.cc:1095] Free  at 7ff4603ae900 of size 256 next 87\n",
      "2024-03-14 21:20:22.019903: I external/local_tsl/tsl/framework/bfc_allocator.cc:1095] InUse at 7ff4603aea00 of size 256 next 86\n",
      "2024-03-14 21:20:22.019906: I external/local_tsl/tsl/framework/bfc_allocator.cc:1095] Free  at 7ff4603aeb00 of size 333056 next 18446744073709551615\n",
      "2024-03-14 21:20:22.019909: I external/local_tsl/tsl/framework/bfc_allocator.cc:1100]      Summary of in-use Chunks by size: \n",
      "2024-03-14 21:20:22.019913: I external/local_tsl/tsl/framework/bfc_allocator.cc:1103] 66 Chunks of size 256 totalling 16.5KiB\n",
      "2024-03-14 21:20:22.019917: I external/local_tsl/tsl/framework/bfc_allocator.cc:1103] 9 Chunks of size 512 totalling 4.5KiB\n",
      "2024-03-14 21:20:22.019920: I external/local_tsl/tsl/framework/bfc_allocator.cc:1103] 1 Chunks of size 1280 totalling 1.2KiB\n",
      "2024-03-14 21:20:22.019923: I external/local_tsl/tsl/framework/bfc_allocator.cc:1103] 2 Chunks of size 4096 totalling 8.0KiB\n",
      "2024-03-14 21:20:22.019926: I external/local_tsl/tsl/framework/bfc_allocator.cc:1103] 1 Chunks of size 6400 totalling 6.2KiB\n",
      "2024-03-14 21:20:22.019929: I external/local_tsl/tsl/framework/bfc_allocator.cc:1103] 3 Chunks of size 8192 totalling 24.0KiB\n",
      "2024-03-14 21:20:22.019933: I external/local_tsl/tsl/framework/bfc_allocator.cc:1103] 1 Chunks of size 11264 totalling 11.0KiB\n",
      "2024-03-14 21:20:22.019936: I external/local_tsl/tsl/framework/bfc_allocator.cc:1103] 3 Chunks of size 16128 totalling 47.2KiB\n",
      "2024-03-14 21:20:22.019939: I external/local_tsl/tsl/framework/bfc_allocator.cc:1103] 1 Chunks of size 50432 totalling 49.2KiB\n",
      "2024-03-14 21:20:22.019942: I external/local_tsl/tsl/framework/bfc_allocator.cc:1103] 2 Chunks of size 409600 totalling 800.0KiB\n",
      "2024-03-14 21:20:22.019946: I external/local_tsl/tsl/framework/bfc_allocator.cc:1103] 1 Chunks of size 770816 totalling 752.8KiB\n",
      "2024-03-14 21:20:22.019949: I external/local_tsl/tsl/framework/bfc_allocator.cc:1103] 1 Chunks of size 973078528 totalling 928.00MiB\n",
      "2024-03-14 21:20:22.019952: I external/local_tsl/tsl/framework/bfc_allocator.cc:1103] 1 Chunks of size 4390387712 totalling 4.09GiB\n",
      "2024-03-14 21:20:22.019956: I external/local_tsl/tsl/framework/bfc_allocator.cc:1107] Sum Total of in-use chunks: 5.00GiB\n",
      "2024-03-14 21:20:22.019959: I external/local_tsl/tsl/framework/bfc_allocator.cc:1109] Total bytes in pool: 9967763456 memory_limit_: 10615193600 available bytes: 647430144 curr_region_allocation_bytes_: 8589934592\n",
      "2024-03-14 21:20:22.019965: I external/local_tsl/tsl/framework/bfc_allocator.cc:1114] Stats: \n",
      "Limit:                     10615193600\n",
      "InUse:                      5365228288\n",
      "MaxInUse:                   6444307200\n",
      "NumAllocs:                      292708\n",
      "MaxAllocSize:               4390387712\n",
      "Reserved:                            0\n",
      "PeakReserved:                        0\n",
      "LargestFreeBlock:                    0\n",
      "\n",
      "2024-03-14 21:20:22.019971: W external/local_tsl/tsl/framework/bfc_allocator.cc:497] ******************************************************_____________________________________________*\n"
     ]
    }
   ],
   "source": [
    "model.evaluate(X_train,y_train_tensor)"
   ]
  },
  {
   "cell_type": "code",
   "execution_count": 21,
   "id": "0cb141b1",
   "metadata": {},
   "outputs": [],
   "source": [
    "y_validation_tensor = tf.keras.utils.to_categorical(y_validation)"
   ]
  },
  {
   "cell_type": "code",
   "execution_count": 22,
   "id": "5eafb602",
   "metadata": {},
   "outputs": [
    {
     "name": "stdout",
     "output_type": "stream",
     "text": [
      "29/29 [==============================] - 0s 10ms/step - loss: 0.4143 - accuracy: 0.9106\n",
      "Accuracy of the model on the training dataset: 91.05603694915771%\n"
     ]
    }
   ],
   "source": [
    "loss, accuracy = model.evaluate(X_validation, y_validation_tensor)\n",
    "\n",
    "print(f\"Accuracy of the model on the training dataset: {accuracy * 100}%\")"
   ]
  },
  {
   "cell_type": "code",
   "execution_count": 45,
   "id": "1513d5fc",
   "metadata": {},
   "outputs": [
    {
     "name": "stderr",
     "output_type": "stream",
     "text": [
      "2024-03-14 20:12:27.808167: W external/local_tsl/tsl/framework/bfc_allocator.cc:485] Allocator (GPU_0_bfc) ran out of memory trying to allocate 928.00MiB (rounded to 973078528)requested by op _EagerConst\n",
      "If the cause is memory fragmentation maybe the environment variable 'TF_GPU_ALLOCATOR=cuda_malloc_async' will improve the situation. \n",
      "Current allocation summary follows.\n",
      "Current allocation summary follows.\n",
      "2024-03-14 20:12:27.808203: I external/local_tsl/tsl/framework/bfc_allocator.cc:1039] BFCAllocator dump for GPU_0_bfc\n",
      "2024-03-14 20:12:27.808215: I external/local_tsl/tsl/framework/bfc_allocator.cc:1046] Bin (256): \tTotal Chunks: 159, Chunks in use: 159. 39.8KiB allocated for chunks. 39.8KiB in use in bin. 6.4KiB client-requested in use in bin.\n",
      "2024-03-14 20:12:27.808222: I external/local_tsl/tsl/framework/bfc_allocator.cc:1046] Bin (512): \tTotal Chunks: 29, Chunks in use: 29. 17.5KiB allocated for chunks. 17.5KiB in use in bin. 14.0KiB client-requested in use in bin.\n",
      "2024-03-14 20:12:27.808229: I external/local_tsl/tsl/framework/bfc_allocator.cc:1046] Bin (1024): \tTotal Chunks: 10, Chunks in use: 10. 10.2KiB allocated for chunks. 10.2KiB in use in bin. 8.7KiB client-requested in use in bin.\n",
      "2024-03-14 20:12:27.808237: I external/local_tsl/tsl/framework/bfc_allocator.cc:1046] Bin (2048): \tTotal Chunks: 1, Chunks in use: 0. 2.2KiB allocated for chunks. 0B in use in bin. 0B client-requested in use in bin.\n",
      "2024-03-14 20:12:27.808244: I external/local_tsl/tsl/framework/bfc_allocator.cc:1046] Bin (4096): \tTotal Chunks: 0, Chunks in use: 0. 0B allocated for chunks. 0B in use in bin. 0B client-requested in use in bin.\n",
      "2024-03-14 20:12:27.808251: I external/local_tsl/tsl/framework/bfc_allocator.cc:1046] Bin (8192): \tTotal Chunks: 2, Chunks in use: 2. 31.5KiB allocated for chunks. 31.5KiB in use in bin. 31.2KiB client-requested in use in bin.\n",
      "2024-03-14 20:12:27.808258: I external/local_tsl/tsl/framework/bfc_allocator.cc:1046] Bin (16384): \tTotal Chunks: 2, Chunks in use: 2. 45.5KiB allocated for chunks. 45.5KiB in use in bin. 31.2KiB client-requested in use in bin.\n",
      "2024-03-14 20:12:27.808265: I external/local_tsl/tsl/framework/bfc_allocator.cc:1046] Bin (32768): \tTotal Chunks: 10, Chunks in use: 9. 405.5KiB allocated for chunks. 364.5KiB in use in bin. 324.1KiB client-requested in use in bin.\n",
      "2024-03-14 20:12:27.808272: I external/local_tsl/tsl/framework/bfc_allocator.cc:1046] Bin (65536): \tTotal Chunks: 1, Chunks in use: 1. 67.2KiB allocated for chunks. 67.2KiB in use in bin. 34.4KiB client-requested in use in bin.\n",
      "2024-03-14 20:12:27.808277: I external/local_tsl/tsl/framework/bfc_allocator.cc:1046] Bin (131072): \tTotal Chunks: 0, Chunks in use: 0. 0B allocated for chunks. 0B in use in bin. 0B client-requested in use in bin.\n",
      "2024-03-14 20:12:27.808284: I external/local_tsl/tsl/framework/bfc_allocator.cc:1046] Bin (262144): \tTotal Chunks: 0, Chunks in use: 0. 0B allocated for chunks. 0B in use in bin. 0B client-requested in use in bin.\n",
      "2024-03-14 20:12:27.808289: I external/local_tsl/tsl/framework/bfc_allocator.cc:1046] Bin (524288): \tTotal Chunks: 0, Chunks in use: 0. 0B allocated for chunks. 0B in use in bin. 0B client-requested in use in bin.\n",
      "2024-03-14 20:12:27.808296: I external/local_tsl/tsl/framework/bfc_allocator.cc:1046] Bin (1048576): \tTotal Chunks: 1, Chunks in use: 0. 1.39MiB allocated for chunks. 0B in use in bin. 0B client-requested in use in bin.\n",
      "2024-03-14 20:12:27.808302: I external/local_tsl/tsl/framework/bfc_allocator.cc:1046] Bin (2097152): \tTotal Chunks: 0, Chunks in use: 0. 0B allocated for chunks. 0B in use in bin. 0B client-requested in use in bin.\n",
      "2024-03-14 20:12:27.808307: I external/local_tsl/tsl/framework/bfc_allocator.cc:1046] Bin (4194304): \tTotal Chunks: 0, Chunks in use: 0. 0B allocated for chunks. 0B in use in bin. 0B client-requested in use in bin.\n",
      "2024-03-14 20:12:27.808313: I external/local_tsl/tsl/framework/bfc_allocator.cc:1046] Bin (8388608): \tTotal Chunks: 0, Chunks in use: 0. 0B allocated for chunks. 0B in use in bin. 0B client-requested in use in bin.\n",
      "2024-03-14 20:12:27.808318: I external/local_tsl/tsl/framework/bfc_allocator.cc:1046] Bin (16777216): \tTotal Chunks: 0, Chunks in use: 0. 0B allocated for chunks. 0B in use in bin. 0B client-requested in use in bin.\n",
      "2024-03-14 20:12:27.808323: I external/local_tsl/tsl/framework/bfc_allocator.cc:1046] Bin (33554432): \tTotal Chunks: 0, Chunks in use: 0. 0B allocated for chunks. 0B in use in bin. 0B client-requested in use in bin.\n",
      "2024-03-14 20:12:27.808330: I external/local_tsl/tsl/framework/bfc_allocator.cc:1046] Bin (67108864): \tTotal Chunks: 2, Chunks in use: 2. 216.58MiB allocated for chunks. 216.58MiB in use in bin. 200.00MiB client-requested in use in bin.\n",
      "2024-03-14 20:12:27.808338: I external/local_tsl/tsl/framework/bfc_allocator.cc:1046] Bin (134217728): \tTotal Chunks: 7, Chunks in use: 6. 1.35GiB allocated for chunks. 1.21GiB in use in bin. 1.17GiB client-requested in use in bin.\n",
      "2024-03-14 20:12:27.808345: I external/local_tsl/tsl/framework/bfc_allocator.cc:1046] Bin (268435456): \tTotal Chunks: 7, Chunks in use: 6. 8.24GiB allocated for chunks. 7.46GiB in use in bin. 7.27GiB client-requested in use in bin.\n",
      "2024-03-14 20:12:27.808351: I external/local_tsl/tsl/framework/bfc_allocator.cc:1062] Bin for 928.00MiB was 256.00MiB, Chunk State: \n",
      "2024-03-14 20:12:27.808363: I external/local_tsl/tsl/framework/bfc_allocator.cc:1068]   Size: 800.00MiB | Requested Size: 108.00MiB | in_use: 0 | bin_num: 20, prev:   Size: 220.00MiB | Requested Size: 220.00MiB | in_use: 1 | bin_num: -1, next:   Size: 517.62MiB | Requested Size: 400.00MiB | in_use: 1 | bin_num: -1\n",
      "2024-03-14 20:12:27.808368: I external/local_tsl/tsl/framework/bfc_allocator.cc:1075] Next region of size 6233391104\n",
      "2024-03-14 20:12:27.808374: I external/local_tsl/tsl/framework/bfc_allocator.cc:1095] InUse at 7f298e000000 of size 4390387712 next 71\n",
      "2024-03-14 20:12:27.808380: I external/local_tsl/tsl/framework/bfc_allocator.cc:1095] InUse at 7f2a93b00000 of size 230686720 next 74\n",
      "2024-03-14 20:12:27.808384: I external/local_tsl/tsl/framework/bfc_allocator.cc:1095] InUse at 7f2aa1700000 of size 230686720 next 78\n",
      "2024-03-14 20:12:27.808389: I external/local_tsl/tsl/framework/bfc_allocator.cc:1095] Free  at 7f2aaf300000 of size 838860800 next 165\n",
      "2024-03-14 20:12:27.808394: I external/local_tsl/tsl/framework/bfc_allocator.cc:1095] InUse at 7f2ae1300000 of"
     ]
    },
    {
     "ename": "InternalError",
     "evalue": "Failed copying input tensor from /job:localhost/replica:0/task:0/device:CPU:0 to /job:localhost/replica:0/task:0/device:GPU:0 in order to run _EagerConst: Dst tensor is not initialized.",
     "output_type": "error",
     "traceback": [
      "\u001b[0;31m---------------------------------------------------------------------------\u001b[0m",
      "\u001b[0;31mInternalError\u001b[0m                             Traceback (most recent call last)",
      "Cell \u001b[0;32mIn[45], line 1\u001b[0m\n\u001b[0;32m----> 1\u001b[0m pred \u001b[38;5;241m=\u001b[39m tf\u001b[38;5;241m.\u001b[39mnn\u001b[38;5;241m.\u001b[39msoftmax(model\u001b[38;5;241m.\u001b[39mpredict(X_validation))\u001b[38;5;241m.\u001b[39mnumpy()\n",
      "File \u001b[0;32m~/anaconda3/lib/python3.11/site-packages/keras/src/utils/traceback_utils.py:70\u001b[0m, in \u001b[0;36mfilter_traceback.<locals>.error_handler\u001b[0;34m(*args, **kwargs)\u001b[0m\n\u001b[1;32m     67\u001b[0m     filtered_tb \u001b[38;5;241m=\u001b[39m _process_traceback_frames(e\u001b[38;5;241m.\u001b[39m__traceback__)\n\u001b[1;32m     68\u001b[0m     \u001b[38;5;66;03m# To get the full stack trace, call:\u001b[39;00m\n\u001b[1;32m     69\u001b[0m     \u001b[38;5;66;03m# `tf.debugging.disable_traceback_filtering()`\u001b[39;00m\n\u001b[0;32m---> 70\u001b[0m     \u001b[38;5;28;01mraise\u001b[39;00m e\u001b[38;5;241m.\u001b[39mwith_traceback(filtered_tb) \u001b[38;5;28;01mfrom\u001b[39;00m \u001b[38;5;28;01mNone\u001b[39;00m\n\u001b[1;32m     71\u001b[0m \u001b[38;5;28;01mfinally\u001b[39;00m:\n\u001b[1;32m     72\u001b[0m     \u001b[38;5;28;01mdel\u001b[39;00m filtered_tb\n",
      "File \u001b[0;32m~/anaconda3/lib/python3.11/site-packages/tensorflow/python/framework/constant_op.py:103\u001b[0m, in \u001b[0;36mconvert_to_eager_tensor\u001b[0;34m(value, ctx, dtype)\u001b[0m\n\u001b[1;32m    101\u001b[0m     dtype \u001b[38;5;241m=\u001b[39m dtypes\u001b[38;5;241m.\u001b[39mas_dtype(dtype)\u001b[38;5;241m.\u001b[39mas_datatype_enum\n\u001b[1;32m    102\u001b[0m ctx\u001b[38;5;241m.\u001b[39mensure_initialized()\n\u001b[0;32m--> 103\u001b[0m \u001b[38;5;28;01mreturn\u001b[39;00m ops\u001b[38;5;241m.\u001b[39mEagerTensor(value, ctx\u001b[38;5;241m.\u001b[39mdevice_name, dtype)\n",
      "\u001b[0;31mInternalError\u001b[0m: Failed copying input tensor from /job:localhost/replica:0/task:0/device:CPU:0 to /job:localhost/replica:0/task:0/device:GPU:0 in order to run _EagerConst: Dst tensor is not initialized."
     ]
    },
    {
     "name": "stderr",
     "output_type": "stream",
     "text": [
      " size 542769152 next 18446744073709551615\n",
      "2024-03-14 20:12:27.808399: I external/local_tsl/tsl/framework/bfc_allocator.cc:1075] Next region of size 2147483648\n",
      "2024-03-14 20:12:27.808403: I external/local_tsl/tsl/framework/bfc_allocator.cc:1095] InUse at 7f31a0000000 of size 922746880 next 22\n",
      "2024-03-14 20:12:27.808408: I external/local_tsl/tsl/framework/bfc_allocator.cc:1095] InUse at 7f31d7000000 of size 230686720 next 99\n",
      "2024-03-14 20:12:27.808413: I external/local_tsl/tsl/framework/bfc_allocator.cc:1095] InUse at 7f31e4c00000 of size 227096320 next 147\n",
      "2024-03-14 20:12:27.808417: I external/local_tsl/tsl/framework/bfc_allocator.cc:1095] InUse at 7f31f2493700 of size 104857600 next 193\n",
      "2024-03-14 20:12:27.808423: I external/local_tsl/tsl/framework/bfc_allocator.cc:1095] InUse at 7f31f8893700 of size 122238720 next 125\n",
      "2024-03-14 20:12:27.808427: I external/local_tsl/tsl/framework/bfc_allocator.cc:1095] InUse at 7f31ffd26e00 of size 227096320 next 141\n",
      "2024-03-14 20:12:27.808432: I external/local_tsl/tsl/framework/bfc_allocator.cc:1095] InUse at 7f320d5ba500 of size 312761088 next 18446744073709551615\n",
      "2024-03-14 20:12:27.808437: I external/local_tsl/tsl/framework/bfc_allocator.cc:1075] Next region of size 1073741824\n",
      "2024-03-14 20:12:27.808441: I external/local_tsl/tsl/framework/bfc_allocator.cc:1095] InUse at 7f3220000000 of size 922746880 next 43\n",
      "2024-03-14 20:12:27.808447: I external/local_tsl/tsl/framework/bfc_allocator.cc:1095] InUse at 7f3257000000 of size 150994944 next 18446744073709551615\n",
      "2024-03-14 20:12:27.808452: I external/local_tsl/tsl/framework/bfc_allocator.cc:1075] Next region of size 1073741824\n",
      "2024-03-14 20:12:27.808457: I external/local_tsl/tsl/framework/bfc_allocator.cc:1095] InUse at 7f3260000000 of size 922746880 next 44\n",
      "2024-03-14 20:12:27.808462: I external/local_tsl/tsl/framework/bfc_allocator.cc:1095] Free  at 7f3297000000 of size 150994944 next 18446744073709551615\n",
      "2024-03-14 20:12:27.808467: I external/local_tsl/tsl/framework/bfc_allocator.cc:1075] Next region of size 2097152\n",
      "2024-03-14 20:12:27.808471: I external/local_tsl/tsl/framework/bfc_allocator.cc:1095] InUse at 7f3326200000 of size 256 next 1\n",
      "2024-03-14 20:12:27.808475: I external/local_tsl/tsl/framework/bfc_allocator.cc:1095] InUse at 7f3326200100 of size 1280 next 2\n",
      "2024-03-14 20:12:27.808478: I external/local_tsl/tsl/framework/bfc_allocator.cc:1095] InUse at 7f3326200600 of size 256 next 3\n",
      "2024-03-14 20:12:27.808481: I external/local_tsl/tsl/framework/bfc_allocator.cc:1095] InUse at 7f3326200700 of size 256 next 4\n",
      "2024-03-14 20:12:27.808484: I external/local_tsl/tsl/framework/bfc_allocator.cc:1095] InUse at 7f3326200800 of size 256 next 6\n",
      "2024-03-14 20:12:27.808487: I external/local_tsl/tsl/framework/bfc_allocator.cc:1095] InUse at 7f3326200900 of size 256 next 7\n",
      "2024-03-14 20:12:27.808489: I external/local_tsl/tsl/framework/bfc_allocator.cc:1095] InUse at 7f3326200a00 of size 256 next 5\n",
      "2024-03-14 20:12:27.808492: I external/local_tsl/tsl/framework/bfc_allocator.cc:1095] InUse at 7f3326200b00 of size 256 next 8\n",
      "2024-03-14 20:12:27.808495: I external/local_tsl/tsl/framework/bfc_allocator.cc:1095] InUse at 7f3326200c00 of size 256 next 11\n",
      "2024-03-14 20:12:27.808497: I external/local_tsl/tsl/framework/bfc_allocator.cc:1095] InUse at 7f3326200d00 of size 256 next 83\n",
      "2024-03-14 20:12:27.808500: I external/local_tsl/tsl/framework/bfc_allocator.cc:1095] InUse at 7f3326200e00 of size 256 next 13\n",
      "2024-03-14 20:12:27.808503: I external/local_tsl/tsl/framework/bfc_allocator.cc:1095] InUse at 7f3326200f00 of size 256 next 14\n",
      "2024-03-14 20:12:27.808505: I external/local_tsl/tsl/framework/bfc_allocator.cc:1095] InUse at 7f3326201000 of size 256 next 9\n",
      "2024-03-14 20:12:27.808508: I external/local_tsl/tsl/framework/bfc_allocator.cc:1095] InUse at 7f3326201100 of size 768 next 10\n",
      "2024-03-14 20:12:27.808511: I external/local_tsl/tsl/framework/bfc_allocator.cc:1095] InUse at 7f3326201400 of size 1024 next 18\n",
      "2024-03-14 20:12:27.808514: I external/local_tsl/tsl/framework/bfc_allocator.cc:1095] InUse at 7f3326201800 of size 256 next 15\n",
      "2024-03-14 20:12:27.808516: I external/local_tsl/tsl/framework/bfc_allocator.cc:1095] InUse at 7f3326201900 of size 256 next 16\n",
      "2024-03-14 20:12:27.808519: I external/local_tsl/tsl/framework/bfc_allocator.cc:1095] InUse at 7f3326201a00 of size 256 next 23\n",
      "2024-03-14 20:12:27.808522: I external/local_tsl/tsl/framework/bfc_allocator.cc:1095] InUse at 7f3326201b00 of size 256 next 24\n",
      "2024-03-14 20:12:27.808525: I external/local_tsl/tsl/framework/bfc_allocator.cc:1095] InUse at 7f3326201c00 of size 256 next 21\n",
      "2024-03-14 20:12:27.808527: I external/local_tsl/tsl/framework/bfc_allocator.cc:1095] InUse at 7f3326201d00 of size 256 next 28\n",
      "2024-03-14 20:12:27.808530: I external/local_tsl/tsl/framework/bfc_allocator.cc:1095] InUse at 7f3326201e00 of size 256 next 29\n",
      "2024-03-14 20:12:27.808533: I external/local_tsl/tsl/framework/bfc_allocator.cc:1095] InUse at 7f3326201f00 of size 256 next 25\n",
      "2024-03-14 20:12:27.808535: I external/local_tsl/tsl/framework/bfc_allocator.cc:1095] InUse at 7f3326202000 of size 256 next 30\n",
      "2024-03-14 20:12:27.808538: I external/local_tsl/tsl/framework/bfc_allocator.cc:1095] InUse at 7f3326202100 of size 256 next 33\n",
      "2024-03-14 20:12:27.808541: I external/local_tsl/tsl/framework/bfc_allocator.cc:1095] InUse at 7f3326202200 of size 256 next 34\n",
      "2024-03-14 20:12:27.808543: I external/local_tsl/tsl/framework/bfc_allocator.cc:1095] InUse at 7f3326202300 of size 256 next 31\n",
      "2024-03-14 20:12:27.808546: I external/local_tsl/tsl/framework/bfc_allocator.cc:1095] InUse at 7f3326202400 of size 512 next 32\n",
      "2024-03-14 20:12:27.808549: I external/local_tsl/tsl/framework/bfc_allocator.cc:1095] InUse at 7f3326202600 of size 256 next 35\n",
      "2024-03-14 20:12:27.808552: I external/local_tsl/tsl/framework/bfc_allocator.cc:1095] InUse at 7f3326202700 of size 768 next 36\n",
      "2024-03-14 20:12:27.808554: I external/local_tsl/tsl/framework/bfc_allocator.cc:1095] InUse at 7f3326202a00 of size 768 next 37\n",
      "2024-03-14 20:12:27.808557: I external/local_tsl/tsl/framework/bfc_allocator.cc:1095] InUse at 7f3326202d00 of size 256 next 38\n",
      "2024-03-14 20:12:27.808560: I external/local_tsl/tsl/framework/bfc_allocator.cc:1095] InUse at 7f3326202e00 of size 256 next 39\n",
      "2024-03-14 20:12:27.808562: I external/local_tsl/tsl/framework/bfc_allocator.cc:1095] InUse at 7f3326202f00 of size 256 next 40\n",
      "2024-03-14 20:12:27.808565: I external/local_tsl/tsl/framework/bfc_allocator.cc:1095] InUse at 7f3326203000 of size 256 next 41\n",
      "2024-03-14 20:12:27.808568: I external/local_tsl/tsl/framework/bfc_allocator.cc:1095] InUse at 7f3326203100 of size 256 next 42\n",
      "2024-03-14 20:12:27.808571: I external/local_tsl/tsl/framework/bfc_allocator.cc:1095] InUse at 7f3326203200 of size 1024 next 45\n",
      "2024-03-14 20:12:27.808574: I external/local_tsl/tsl/framework/bfc_allocator.cc:1095] InUse at 7f3326203600 of size 1024 next 46\n",
      "2024-03-14 20:12:27.808577: I external/local_tsl/tsl/framework/bfc_allocator.cc:1095] InUse at 7f3326203a00 of size 63232 next 26\n",
      "2024-03-14 20:12:27.808580: I external/local_tsl/tsl/framework/bfc_allocator.cc:1095] InUse at 7f3326213100 of size 35328 next 27\n",
      "2024-03-14 20:12:27.808584: I external/local_tsl/tsl/framework/bfc_allocator.cc:1095] InUse at 7f332621bb00 of size 35328 next 47\n",
      "2024-03-14 20:12:27.808587: I external/local_tsl/tsl/framework/bfc_allocator.cc:1095] InUse at 7f3326224500 of size 256 next 48\n",
      "2024-03-14 20:12:27.808589: I external/local_tsl/tsl/framework/bfc_allocator.cc:1095] InUse at 7f3326224600 of size 256 next 49\n",
      "2024-03-14 20:12:27.808592: I external/local_tsl/tsl/framework/bfc_allocator.cc:1095] InUse at 7f3326224700 of size 512 next 50\n",
      "2024-03-14 20:12:27.808595: I external/local_tsl/tsl/framework/bfc_allocator.cc:1095] InUse at 7f3326224900 of size 512 next 51\n",
      "2024-03-14 20:12:27.808597: I external/local_tsl/tsl/framework/bfc_allocator.cc:1095] InUse at 7f3326224b00 of size 256 next 52\n",
      "2024-03-14 20:12:27.808600: I external/local_tsl/tsl/framework/bfc_allocator.cc:1095] InUse at 7f3326224c00 of size 256 next 53\n",
      "2024-03-14 20:12:27.808603: I external/local_tsl/tsl/framework/bfc_allocator.cc:1095] InUse at 7f3326224d00 of size 256 next 84\n",
      "2024-03-14 20:12:27.808605: I external/local_tsl/tsl/framework/bfc_allocator.cc:1095] InUse at 7f3326224e00 of size 256 next 55\n",
      "2024-03-14 20:12:27.808608: I external/local_tsl/tsl/framework/bfc_allocator.cc:1095] InUse at 7f3326224f00 of size 256 next 56\n",
      "2024-03-14 20:12:27.808611: I external/local_tsl/tsl/framework/bfc_allocator.cc:1095] InUse at 7f3326225000 of size 256 next 57\n",
      "2024-03-14 20:12:27.808613: I external/local_tsl/tsl/framework/bfc_allocator.cc:1095] InUse at 7f3326225100 of size 256 next 58\n",
      "2024-03-14 20:12:27.808616: I external/local_tsl/tsl/framework/bfc_allocator.cc:1095] InUse at 7f3326225200 of size 256 next 59\n",
      "2024-03-14 20:12:27.808619: I external/local_tsl/tsl/framework/bfc_allocator.cc:1095] InUse at 7f3326225300 of size 256 next 60\n",
      "2024-03-14 20:12:27.808621: I external/local_tsl/tsl/framework/bfc_allocator.cc:1095] InUse at 7f3326225400 of size 256 next 61\n",
      "2024-03-14 20:12:27.808624: I external/local_tsl/tsl/framework/bfc_allocator.cc:1095] InUse at 7f3326225500 of size 256 next 85\n",
      "2024-03-14 20:12:27.808627: I external/local_tsl/tsl/framework/bfc_allocator.cc:1095] InUse at 7f3326225600 of size 256 next 81\n",
      "2024-03-14 20:12:27.808629: I external/local_tsl/tsl/framework/bfc_allocator.cc:1095] InUse at 7f3326225700 of size 256 next 67\n",
      "2024-03-14 20:12:27.808632: I external/local_tsl/tsl/framework/bfc_allocator.cc:1095] InUse at 7f3326225800 of size 256 next 76\n",
      "2024-03-14 20:12:27.808635: I external/local_tsl/tsl/framework/bfc_allocator.cc:1095] InUse at 7f3326225900 of size 768 next 89\n",
      "2024-03-14 20:12:27.808637: I external/local_tsl/tsl/framework/bfc_allocator.cc:1095] InUse at 7f3326225c00 of size 256 next 66\n",
      "2024-03-14 20:12:27.808640: I external/local_tsl/tsl/framework/bfc_allocator.cc:1095] InUse at 7f3326225d00 of size 256 next 79\n",
      "2024-03-14 20:12:27.808642: I external/local_tsl/tsl/framework/bfc_allocator.cc:1095] InUse at 7f3326225e00 of size 256 next 86\n",
      "2024-03-14 20:12:27.808645: I external/local_tsl/tsl/framework/bfc_allocator.cc:1095] InUse at 7f3326225f00 of size 256 next 73\n",
      "2024-03-14 20:12:27.808648: I external/local_tsl/tsl/framework/bfc_allocator.cc:1095] InUse at 7f3326226000 of size 256 next 127\n",
      "2024-03-14 20:12:27.808651: I external/local_tsl/tsl/framework/bfc_allocator.cc:1095] InUse at 7f3326226100 of size 256 next 138\n",
      "2024-03-14 20:12:27.808654: I external/local_tsl/tsl/framework/bfc_allocator.cc:1095] InUse at 7f3326226200 of size 256 next 133\n",
      "2024-03-14 20:12:27.808657: I external/local_tsl/tsl/framework/bfc_allocator.cc:1095] InUse at 7f3326226300 of size 256 next 118\n",
      "2024-03-14 20:12:27.808660: I external/local_tsl/tsl/framework/bfc_allocator.cc:1095] InUse at 7f3326226400 of size 768 next 142\n",
      "2024-03-14 20:12:27.808663: I external/local_tsl/tsl/framework/bfc_allocator.cc:1095] InUse at 7f3326226700 of size 1024 next 88\n",
      "2024-03-14 20:12:27.808666: I external/local_tsl/tsl/framework/bfc_allocator.cc:1095] InUse at 7f3326226b00 of size 47616 next 69\n",
      "2024-03-14 20:12:27.808669: I external/local_tsl/tsl/framework/bfc_allocator.cc:1095] InUse at 7f3326232500 of size 768 next 87\n",
      "2024-03-14 20:12:27.808672: I external/local_tsl/tsl/framework/bfc_allocator.cc:1095] InUse at 7f3326232800 of size 256 next 62\n",
      "2024-03-14 20:12:27.808674: I external/local_tsl/tsl/framework/bfc_allocator.cc:1095] InUse at 7f3326232900 of size 256 next 94\n",
      "2024-03-14 20:12:27.808677: I external/local_tsl/tsl/framework/bfc_allocator.cc:1095] InUse at 7f3326232a00 of size 1024 next 100\n",
      "2024-03-14 20:12:27.808680: I external/local_tsl/tsl/framework/bfc_allocator.cc:1095] InUse at 7f3326232e00 of size 1024 next 101\n",
      "2024-03-14 20:12:27.808683: I external/local_tsl/tsl/framework/bfc_allocator.cc:1095] InUse at 7f3326233200 of size 256 next 103\n",
      "2024-03-14 20:12:27.808686: I external/local_tsl/tsl/framework/bfc_allocator.cc:1095] InUse at 7f3326233300 of size 256 next 104\n",
      "2024-03-14 20:12:27.808689: I external/local_tsl/tsl/framework/bfc_allocator.cc:1095] InUse at 7f3326233400 of size 512 next 105\n",
      "2024-03-14 20:12:27.808692: I external/local_tsl/tsl/framework/bfc_allocator.cc:1095] InUse at 7f3326233600 of size 512 next 106\n",
      "2024-03-14 20:12:27.808694: I external/local_tsl/tsl/framework/bfc_allocator.cc:1095] InUse at 7f3326233800 of size 256 next 107\n",
      "2024-03-14 20:12:27.808697: I external/local_tsl/tsl/framework/bfc_allocator.cc:1095] InUse at 7f3326233900 of size 256 next 108\n",
      "2024-03-14 20:12:27.808700: I external/local_tsl/tsl/framework/bfc_allocator.cc:1095] InUse at 7f3326233a00 of size 256 next 109\n",
      "2024-03-14 20:12:27.808703: I external/local_tsl/tsl/framework/bfc_allocator.cc:1095] InUse at 7f3326233b00 of size 256 next 110\n",
      "2024-03-14 20:12:27.808706: I external/local_tsl/tsl/framework/bfc_allocator.cc:1095] InUse at 7f3326233c00 of size 256 next 114\n",
      "2024-03-14 20:12:27.808709: I external/local_tsl/tsl/framework/bfc_allocator.cc:1095] InUse at 7f3326233d00 of size 256 next 113\n",
      "2024-03-14 20:12:27.808712: I external/local_tsl/tsl/framework/bfc_allocator.cc:1095] InUse at 7f3326233e00 of size 256 next 115\n",
      "2024-03-14 20:12:27.808714: I external/local_tsl/tsl/framework/bfc_allocator.cc:1095] InUse at 7f3326233f00 of size 768 next 116\n",
      "2024-03-14 20:12:27.808717: I external/local_tsl/tsl/framework/bfc_allocator.cc:1095] InUse at 7f3326234200 of size 256 next 136\n",
      "2024-03-14 20:12:27.808720: I external/local_tsl/tsl/framework/bfc_allocator.cc:1095] InUse at 7f3326234300 of size 256 next 117\n",
      "2024-03-14 20:12:27.808723: I external/local_tsl/tsl/framework/bfc_allocator.cc:1095] InUse at 7f3326234400 of size 256 next 119\n",
      "2024-03-14 20:12:27.808726: I external/local_tsl/tsl/framework/bfc_allocator.cc:1095] InUse at 7f3326234500 of size 256 next 120\n",
      "2024-03-14 20:12:27.808729: I external/local_tsl/tsl/framework/bfc_allocator.cc:1095] InUse at 7f3326234600 of size 256 next 135\n",
      "2024-03-14 20:12:27.808732: I external/local_tsl/tsl/framework/bfc_allocator.cc:1095] InUse at 7f3326234700 of size 768 next 123\n",
      "2024-03-14 20:12:27.808734: I external/local_tsl/tsl/framework/bfc_allocator.cc:1095] InUse at 7f3326234a00 of size 256 next 137\n",
      "2024-03-14 20:12:27.808737: I external/local_tsl/tsl/framework/bfc_allocator.cc:1095] InUse at 7f3326234b00 of size 256 next 124\n",
      "2024-03-14 20:12:27.808741: I external/local_tsl/tsl/framework/bfc_allocator.cc:1095] InUse at 7f3326234c00 of size 256 next 132\n",
      "2024-03-14 20:12:27.808744: I external/local_tsl/tsl/framework/bfc_allocator.cc:1095] InUse at 7f3326234d00 of size 256 next 130\n",
      "2024-03-14 20:12:27.808747: I external/local_tsl/tsl/framework/bfc_allocator.cc:1095] InUse at 7f3326234e00 of size 256 next 122\n",
      "2024-03-14 20:12:27.808749: I external/local_tsl/tsl/framework/bfc_allocator.cc:1095] InUse at 7f3326234f00 of size 256 next 129\n",
      "2024-03-14 20:12:27.808752: I external/local_tsl/tsl/framework/bfc_allocator.cc:1095] InUse at 7f3326235000 of size 256 next 12\n",
      "2024-03-14 20:12:27.808755: I external/local_tsl/tsl/framework/bfc_allocator.cc:1095] InUse at 7f3326235100 of size 256 next 54\n",
      "2024-03-14 20:12:27.808757: I external/local_tsl/tsl/framework/bfc_allocator.cc:1095] InUse at 7f3326235200 of size 256 next 68\n",
      "2024-03-14 20:12:27.808760: I external/local_tsl/tsl/framework/bfc_allocator.cc:1095] InUse at 7f3326235300 of size 256 next 90\n",
      "2024-03-14 20:12:27.808763: I external/local_tsl/tsl/framework/bfc_allocator.cc:1095] InUse at 7f3326235400 of size 256 next 128\n",
      "2024-03-14 20:12:27.808766: I external/local_tsl/tsl/framework/bfc_allocator.cc:1095] InUse at 7f3326235500 of size 256 next 64\n",
      "2024-03-14 20:12:27.808768: I external/local_tsl/tsl/framework/bfc_allocator.cc:1095] InUse at 7f3326235600 of size 256 next 65\n",
      "2024-03-14 20:12:27.808771: I external/local_tsl/tsl/framework/bfc_allocator.cc:1095] InUse at 7f3326235700 of size 256 next 72\n",
      "2024-03-14 20:12:27.808774: I external/local_tsl/tsl/framework/bfc_allocator.cc:1095] InUse at 7f3326235800 of size 256 next 75\n",
      "2024-03-14 20:12:27.808776: I external/local_tsl/tsl/framework/bfc_allocator.cc:1095] InUse at 7f3326235900 of size 256 next 77\n",
      "2024-03-14 20:12:27.808779: I external/local_tsl/tsl/framework/bfc_allocator.cc:1095] InUse at 7f3326235a00 of size 768 next 63\n",
      "2024-03-14 20:12:27.808782: I external/local_tsl/tsl/framework/bfc_allocator.cc:1095] InUse at 7f3326235d00 of size 1024 next 80\n",
      "2024-03-14 20:12:27.808785: I external/local_tsl/tsl/framework/bfc_allocator.cc:1095] InUse at 7f3326236100 of size 256 next 82\n",
      "2024-03-14 20:12:27.808787: I external/local_tsl/tsl/framework/bfc_allocator.cc:1095] InUse at 7f3326236200 of size 256 next 97\n",
      "2024-03-14 20:12:27.808790: I external/local_tsl/tsl/framework/bfc_allocator.cc:1095] InUse at 7f3326236300 of size 512 next 98\n",
      "2024-03-14 20:12:27.808792: I external/local_tsl/tsl/framework/bfc_allocator.cc:1095] InUse at 7f3326236500 of size 256 next 91\n",
      "2024-03-14 20:12:27.808795: I external/local_tsl/tsl/framework/bfc_allocator.cc:1095] InUse at 7f3326236600 of size 256 next 95\n",
      "2024-03-14 20:12:27.808798: I external/local_tsl/tsl/framework/bfc_allocator.cc:1095] InUse at 7f3326236700 of size 512 next 96\n",
      "2024-03-14 20:12:27.808801: I external/local_tsl/tsl/framework/bfc_allocator.cc:1095] InUse at 7f3326236900 of size 68864 next 92\n",
      "2024-03-14 20:12:27.808804: I external/local_tsl/tsl/framework/bfc_allocator.cc:1095] InUse at 7f3326247600 of size 35328 next 93\n",
      "2024-03-14 20:12:27.808807: I external/local_tsl/tsl/framework/bfc_allocator.cc:1095] InUse at 7f3326250000 of size 35328 next 102\n",
      "2024-03-14 20:12:27.808809: I external/local_tsl/tsl/framework/bfc_allocator.cc:1095] InUse at 7f3326258a00 of size 256 next 139\n",
      "2024-03-14 20:12:27.808812: I external/local_tsl/tsl/framework/bfc_allocator.cc:1095] InUse at 7f3326258b00 of size 256 next 140\n",
      "2024-03-14 20:12:27.808815: I external/local_tsl/tsl/framework/bfc_allocator.cc:1095] InUse at 7f3326258c00 of size 768 next 126\n",
      "2024-03-14 20:12:27.808818: I external/local_tsl/tsl/framework/bfc_allocator.cc:1095] InUse at 7f3326258f00 of size 512 next 143\n",
      "2024-03-14 20:12:27.808821: I external/local_tsl/tsl/framework/bfc_allocator.cc:1095] InUse at 7f3326259100 of size 768 next 131\n",
      "2024-03-14 20:12:27.808824: I external/local_tsl/tsl/framework/bfc_allocator.cc:1095] InUse at 7f3326259400 of size 256 next 145\n",
      "2024-03-14 20:12:27.808827: I external/local_tsl/tsl/framework/bfc_allocator.cc:1095] InUse at 7f3326259500 of size 256 next 146\n",
      "2024-03-14 20:12:27.808830: I external/local_tsl/tsl/framework/bfc_allocator.cc:1095] InUse at 7f3326259600 of size 256 next 144\n",
      "2024-03-14 20:12:27.808833: I external/local_tsl/tsl/framework/bfc_allocator.cc:1095] InUse at 7f3326259700 of size 1024 next 148\n",
      "2024-03-14 20:12:27.808836: I external/local_tsl/tsl/framework/bfc_allocator.cc:1095] InUse at 7f3326259b00 of size 1024 next 149\n",
      "2024-03-14 20:12:27.808839: I external/local_tsl/tsl/framework/bfc_allocator.cc:1095] InUse at 7f3326259f00 of size 256 next 151\n",
      "2024-03-14 20:12:27.808842: I external/local_tsl/tsl/framework/bfc_allocator.cc:1095] InUse at 7f332625a000 of size 256 next 152\n",
      "2024-03-14 20:12:27.808845: I external/local_tsl/tsl/framework/bfc_allocator.cc:1095] InUse at 7f332625a100 of size 512 next 153\n",
      "2024-03-14 20:12:27.808848: I external/local_tsl/tsl/framework/bfc_allocator.cc:1095] InUse at 7f332625a300 of size 512 next 154\n",
      "2024-03-14 20:12:27.808851: I external/local_tsl/tsl/framework/bfc_allocator.cc:1095] InUse at 7f332625a500 of size 256 next 155\n",
      "2024-03-14 20:12:27.808853: I external/local_tsl/tsl/framework/bfc_allocator.cc:1095] InUse at 7f332625a600 of size 256 next 156\n",
      "2024-03-14 20:12:27.808856: I external/local_tsl/tsl/framework/bfc_allocator.cc:1095] InUse at 7f332625a700 of size 256 next 157\n",
      "2024-03-14 20:12:27.808859: I external/local_tsl/tsl/framework/bfc_allocator.cc:1095] InUse at 7f332625a800 of size 256 next 158\n",
      "2024-03-14 20:12:27.808862: I external/local_tsl/tsl/framework/bfc_allocator.cc:1095] InUse at 7f332625a900 of size 256 next 159\n",
      "2024-03-14 20:12:27.808865: I external/local_tsl/tsl/framework/bfc_allocator.cc:1095] InUse at 7f332625aa00 of size 256 next 160\n",
      "2024-03-14 20:12:27.808868: I external/local_tsl/tsl/framework/bfc_allocator.cc:1095] InUse at 7f332625ab00 of size 256 next 161\n",
      "2024-03-14 20:12:27.808871: I external/local_tsl/tsl/framework/bfc_allocator.cc:1095] InUse at 7f332625ac00 of size 256 next 162\n",
      "2024-03-14 20:12:27.808873: I external/local_tsl/tsl/framework/bfc_allocator.cc:1095] InUse at 7f332625ad00 of size 256 next 163\n",
      "2024-03-14 20:12:27.808876: I external/local_tsl/tsl/framework/bfc_allocator.cc:1095] InUse at 7f332625ae00 of size 256 next 164\n",
      "2024-03-14 20:12:27.808879: I external/local_tsl/tsl/framework/bfc_allocator.cc:1095] InUse at 7f332625af00 of size 256 next 173\n",
      "2024-03-14 20:12:27.808882: I external/local_tsl/tsl/framework/bfc_allocator.cc:1095] InUse at 7f332625b000 of size 256 next 187\n",
      "2024-03-14 20:12:27.808885: I external/local_tsl/tsl/framework/bfc_allocator.cc:1095] InUse at 7f332625b100 of size 256 next 167\n",
      "2024-03-14 20:12:27.808888: I external/local_tsl/tsl/framework/bfc_allocator.cc:1095] InUse at 7f332625b200 of size 256 next 179\n",
      "2024-03-14 20:12:27.808891: I external/local_tsl/tsl/framework/bfc_allocator.cc:1095] InUse at 7f332625b300 of size 256 next 174\n",
      "2024-03-14 20:12:27.808894: I external/local_tsl/tsl/framework/bfc_allocator.cc:1095] InUse at 7f332625b400 of size 256 next 112\n",
      "2024-03-14 20:12:27.808896: I external/local_tsl/tsl/framework/bfc_allocator.cc:1095] InUse at 7f332625b500 of size 768 next 183\n",
      "2024-03-14 20:12:27.808899: I external/local_tsl/tsl/framework/bfc_allocator.cc:1095] InUse at 7f332625b800 of size 256 next 176\n",
      "2024-03-14 20:12:27.808902: I external/local_tsl/tsl/framework/bfc_allocator.cc:1095] InUse at 7f332625b900 of size 256 next 171\n",
      "2024-03-14 20:12:27.808905: I external/local_tsl/tsl/framework/bfc_allocator.cc:1095] InUse at 7f332625ba00 of size 256 next 111\n",
      "2024-03-14 20:12:27.808908: I external/local_tsl/tsl/framework/bfc_allocator.cc:1095] InUse at 7f332625bb00 of size 22784 next 121\n",
      "2024-03-14 20:12:27.808911: I external/local_tsl/tsl/framework/bfc_allocator.cc:1095] InUse at 7f3326261400 of size 35328 next 134\n",
      "2024-03-14 20:12:27.808914: I external/local_tsl/tsl/framework/bfc_allocator.cc:1095] InUse at 7f3326269e00 of size 35328 next 150\n",
      "2024-03-14 20:12:27.808917: I external/local_tsl/tsl/framework/bfc_allocator.cc:1095] InUse at 7f3326272800 of size 256 next 184\n",
      "2024-03-14 20:12:27.808920: I external/local_tsl/tsl/framework/bfc_allocator.cc:1095] InUse at 7f3326272900 of size 256 next 172\n",
      "2024-03-14 20:12:27.808923: I external/local_tsl/tsl/framework/bfc_allocator.cc:1095] InUse at 7f3326272a00 of size 256 next 166\n",
      "2024-03-14 20:12:27.808926: I external/local_tsl/tsl/framework/bfc_allocator.cc:1095] InUse at 7f3326272b00 of size 256 next 188\n",
      "2024-03-14 20:12:27.808929: I external/local_tsl/tsl/framework/bfc_allocator.cc:1095] InUse at 7f3326272c00 of size 256 next 181\n",
      "2024-03-14 20:12:27.808932: I external/local_tsl/tsl/framework/bfc_allocator.cc:1095] InUse at 7f3326272d00 of size 256 next 182\n",
      "2024-03-14 20:12:27.808935: I external/local_tsl/tsl/framework/bfc_allocator.cc:1095] InUse at 7f3326272e00 of size 256 next 178\n",
      "2024-03-14 20:12:27.808938: I external/local_tsl/tsl/framework/bfc_allocator.cc:1095] InUse at 7f3326272f00 of size 256 next 189\n",
      "2024-03-14 20:12:27.808940: I external/local_tsl/tsl/framework/bfc_allocator.cc:1095] InUse at 7f3326273000 of size 512 next 168\n",
      "2024-03-14 20:12:27.808943: I external/local_tsl/tsl/framework/bfc_allocator.cc:1095] InUse at 7f3326273200 of size 256 next 242\n",
      "2024-03-14 20:12:27.808946: I external/local_tsl/tsl/framework/bfc_allocator.cc:1095] InUse at 7f3326273300 of size 256 next 177\n",
      "2024-03-14 20:12:27.808949: I external/local_tsl/tsl/framework/bfc_allocator.cc:1095] InUse at 7f3326273400 of size 256 next 175\n",
      "2024-03-14 20:12:27.808952: I external/local_tsl/tsl/framework/bfc_allocator.cc:1095] InUse at 7f3326273500 of size 256 next 170\n",
      "2024-03-14 20:12:27.808955: I external/local_tsl/tsl/framework/bfc_allocator.cc:1095] InUse at 7f3326273600 of size 512 next 191\n",
      "2024-03-14 20:12:27.808958: I external/local_tsl/tsl/framework/bfc_allocator.cc:1095] InUse at 7f3326273800 of size 256 next 192\n",
      "2024-03-14 20:12:27.808961: I external/local_tsl/tsl/framework/bfc_allocator.cc:1095] InUse at 7f3326273900 of size 256 next 196\n",
      "2024-03-14 20:12:27.808963: I external/local_tsl/tsl/framework/bfc_allocator.cc:1095] InUse at 7f3326273a00 of size 256 next 238\n",
      "2024-03-14 20:12:27.808966: I external/local_tsl/tsl/framework/bfc_allocator.cc:1095] InUse at 7f3326273b00 of size 256 next 194\n",
      "2024-03-14 20:12:27.808969: I external/local_tsl/tsl/framework/bfc_allocator.cc:1095] InUse at 7f3326273c00 of size 256 next 198\n",
      "2024-03-14 20:12:27.808972: I external/local_tsl/tsl/framework/bfc_allocator.cc:1095] InUse at 7f3326273d00 of size 256 next 201\n",
      "2024-03-14 20:12:27.808975: I external/local_tsl/tsl/framework/bfc_allocator.cc:1095] InUse at 7f3326273e00 of size 256 next 202\n",
      "2024-03-14 20:12:27.808978: I external/local_tsl/tsl/framework/bfc_allocator.cc:1095] InUse at 7f3326273f00 of size 256 next 199\n",
      "2024-03-14 20:12:27.808981: I external/local_tsl/tsl/framework/bfc_allocator.cc:1095] InUse at 7f3326274000 of size 512 next 200\n",
      "2024-03-14 20:12:27.808984: I external/local_tsl/tsl/framework/bfc_allocator.cc:1095] InUse at 7f3326274200 of size 256 next 203\n",
      "2024-03-14 20:12:27.808986: I external/local_tsl/tsl/framework/bfc_allocator.cc:1095] InUse at 7f3326274300 of size 256 next 204\n",
      "2024-03-14 20:12:27.808989: I external/local_tsl/tsl/framework/bfc_allocator.cc:1095] InUse at 7f3326274400 of size 256 next 205\n",
      "2024-03-14 20:12:27.808992: I external/local_tsl/tsl/framework/bfc_allocator.cc:1095] InUse at 7f3326274500 of size 256 next 206\n",
      "2024-03-14 20:12:27.808995: I external/local_tsl/tsl/framework/bfc_allocator.cc:1095] InUse at 7f3326274600 of size 512 next 207\n",
      "2024-03-14 20:12:27.808998: I external/local_tsl/tsl/framework/bfc_allocator.cc:1095] InUse at 7f3326274800 of size 512 next 208\n",
      "2024-03-14 20:12:27.809001: I external/local_tsl/tsl/framework/bfc_allocator.cc:1095] InUse at 7f3326274a00 of size 256 next 209\n",
      "2024-03-14 20:12:27.809004: I external/local_tsl/tsl/framework/bfc_allocator.cc:1095] InUse at 7f3326274b00 of size 256 next 210\n",
      "2024-03-14 20:12:27.809007: I external/local_tsl/tsl/framework/bfc_allocator.cc:1095] InUse at 7f3326274c00 of size 512 next 211\n",
      "2024-03-14 20:12:27.809010: I external/local_tsl/tsl/framework/bfc_allocator.cc:1095] InUse at 7f3326274e00 of size 512 next 212\n",
      "2024-03-14 20:12:27.809013: I external/local_tsl/tsl/framework/bfc_allocator.cc:1095] InUse at 7f3326275000 of size 256 next 213\n",
      "2024-03-14 20:12:27.809016: I external/local_tsl/tsl/framework/bfc_allocator.cc:1095] InUse at 7f3326275100 of size 256 next 214\n",
      "2024-03-14 20:12:27.809019: I external/local_tsl/tsl/framework/bfc_allocator.cc:1095] InUse at 7f3326275200 of size 256 next 230\n",
      "2024-03-14 20:12:27.809022: I external/local_tsl/tsl/framework/bfc_allocator.cc:1095] InUse at 7f3326275300 of size 256 next 216\n",
      "2024-03-14 20:12:27.809025: I external/local_tsl/tsl/framework/bfc_allocator.cc:1095] InUse at 7f3326275400 of size 256 next 217\n",
      "2024-03-14 20:12:27.809027: I external/local_tsl/tsl/framework/bfc_allocator.cc:1095] InUse at 7f3326275500 of size 256 next 218\n",
      "2024-03-14 20:12:27.809030: I external/local_tsl/tsl/framework/bfc_allocator.cc:1095] InUse at 7f3326275600 of size 256 next 219\n",
      "2024-03-14 20:12:27.809033: I external/local_tsl/tsl/framework/bfc_allocator.cc:1095] InUse at 7f3326275700 of size 256 next 220\n",
      "2024-03-14 20:12:27.809036: I external/local_tsl/tsl/framework/bfc_allocator.cc:1095] InUse at 7f3326275800 of size 256 next 221\n",
      "2024-03-14 20:12:27.809039: I external/local_tsl/tsl/framework/bfc_allocator.cc:1095] InUse at 7f3326275900 of size 256 next 222\n",
      "2024-03-14 20:12:27.809042: I external/local_tsl/tsl/framework/bfc_allocator.cc:1095] InUse at 7f3326275a00 of size 256 next 249\n",
      "2024-03-14 20:12:27.809045: I external/local_tsl/tsl/framework/bfc_allocator.cc:1095] InUse at 7f3326275b00 of size 256 next 236\n",
      "2024-03-14 20:12:27.809047: I external/local_tsl/tsl/framework/bfc_allocator.cc:1095] InUse at 7f3326275c00 of size 256 next 237\n",
      "2024-03-14 20:12:27.809050: I external/local_tsl/tsl/framework/bfc_allocator.cc:1095] InUse at 7f3326275d00 of size 256 next 246\n",
      "2024-03-14 20:12:27.809053: I external/local_tsl/tsl/framework/bfc_allocator.cc:1095] InUse at 7f3326275e00 of size 256 next 186\n",
      "2024-03-14 20:12:27.809056: I external/local_tsl/tsl/framework/bfc_allocator.cc:1095] Free  at 7f3326275f00 of size 2304 next 190\n",
      "2024-03-14 20:12:27.809059: I external/local_tsl/tsl/framework/bfc_allocator.cc:1095] InUse at 7f3326276800 of size 16128 next 169\n",
      "2024-03-14 20:12:27.809062: I external/local_tsl/tsl/framework/bfc_allocator.cc:1095] InUse at 7f332627a700 of size 23808 next 180\n",
      "2024-03-14 20:12:27.809065: I external/local_tsl/tsl/framework/bfc_allocator.cc:1095] InUse at 7f3326280400 of size 256 next 185\n",
      "2024-03-14 20:12:27.809068: I external/local_tsl/tsl/framework/bfc_allocator.cc:1095] InUse at 7f3326280500 of size 16128 next 195\n",
      "2024-03-14 20:12:27.809071: I external/local_tsl/tsl/framework/bfc_allocator.cc:1095] Free  at 7f3326284400 of size 41984 next 239\n",
      "2024-03-14 20:12:27.809074: I external/local_tsl/tsl/framework/bfc_allocator.cc:1095] InUse at 7f332628e800 of size 256 next 240\n",
      "2024-03-14 20:12:27.809077: I external/local_tsl/tsl/framework/bfc_allocator.cc:1095] InUse at 7f332628e900 of size 50432 next 233\n",
      "2024-03-14 20:12:27.809080: I external/local_tsl/tsl/framework/bfc_allocator.cc:1095] Free  at 7f332629ae00 of size 1462784 next 18446744073709551615\n",
      "2024-03-14 20:12:27.809082: I external/local_tsl/tsl/framework/bfc_allocator.cc:1100]      Summary of in-use Chunks by size: \n",
      "2024-03-14 20:12:27.809087: I external/local_tsl/tsl/framework/bfc_allocator.cc:1103] 159 Chunks of size 256 totalling 39.8KiB\n",
      "2024-03-14 20:12:27.809090: I external/local_tsl/tsl/framework/bfc_allocator.cc:1103] 17 Chunks of size 512 totalling 8.5KiB\n",
      "2024-03-14 20:12:27.809093: I external/local_tsl/tsl/framework/bfc_allocator.cc:1103] 12 Chunks of size 768 totalling 9.0KiB\n",
      "2024-03-14 20:12:27.809097: I external/local_tsl/tsl/framework/bfc_allocator.cc:1103] 9 Chunks of size 1024 totalling 9.0KiB\n",
      "2024-03-14 20:12:27.809100: I external/local_tsl/tsl/framework/bfc_allocator.cc:1103] 1 Chunks of size 1280 totalling 1.2KiB\n",
      "2024-03-14 20:12:27.809103: I external/local_tsl/tsl/framework/bfc_allocator.cc:1103] 2 Chunks of size 16128 totalling 31.5KiB\n",
      "2024-03-14 20:12:27.809106: I external/local_tsl/tsl/framework/bfc_allocator.cc:1103] 1 Chunks of size 22784 totalling 22.2KiB\n",
      "2024-03-14 20:12:27.809109: I external/local_tsl/tsl/framework/bfc_allocator.cc:1103] 1 Chunks of size 23808 totalling 23.2KiB\n",
      "2024-03-14 20:12:27.809112: I external/local_tsl/tsl/framework/bfc_allocator.cc:1103] 6 Chunks of size 35328 totalling 207.0KiB\n",
      "2024-03-14 20:12:27.809115: I external/local_tsl/tsl/framework/bfc_allocator.cc:1103] 1 Chunks of size 47616 totalling 46.5KiB\n",
      "2024-03-14 20:12:27.809118: I external/local_tsl/tsl/framework/bfc_allocator.cc:1103] 1 Chunks of size 50432 totalling 49.2KiB\n",
      "2024-03-14 20:12:27.809122: I external/local_tsl/tsl/framework/bfc_allocator.cc:1103] 1 Chunks of size 63232 totalling 61.8KiB\n",
      "2024-03-14 20:12:27.809125: I external/local_tsl/tsl/framework/bfc_allocator.cc:1103] 1 Chunks of size 68864 totalling 67.2KiB\n",
      "2024-03-14 20:12:27.809128: I external/local_tsl/tsl/framework/bfc_allocator.cc:1103] 1 Chunks of size 104857600 totalling 100.00MiB\n",
      "2024-03-14 20:12:27.809131: I external/local_tsl/tsl/framework/bfc_allocator.cc:1103] 1 Chunks of size 122238720 totalling 116.58MiB\n",
      "2024-03-14 20:12:27.809134: I external/local_tsl/tsl/framework/bfc_allocator.cc:1103] 1 Chunks of size 150994944 totalling 144.00MiB\n",
      "2024-03-14 20:12:27.809138: I external/local_tsl/tsl/framework/bfc_allocator.cc:1103] 2 Chunks of size 227096320 totalling 433.15MiB\n",
      "2024-03-14 20:12:27.809141: I external/local_tsl/tsl/framework/bfc_allocator.cc:1103] 3 Chunks of size 230686720 totalling 660.00MiB\n",
      "2024-03-14 20:12:27.809145: I external/local_tsl/tsl/framework/bfc_allocator.cc:1103] 1 Chunks of size 312761088 totalling 298.27MiB\n",
      "2024-03-14 20:12:27.809148: I external/local_tsl/tsl/framework/bfc_allocator.cc:1103] 1 Chunks of size 542769152 totalling 517.62MiB\n",
      "2024-03-14 20:12:27.809151: I external/local_tsl/tsl/framework/bfc_allocator.cc:1103] 3 Chunks of size 922746880 totalling 2.58GiB\n",
      "2024-03-14 20:12:27.809154: I external/local_tsl/tsl/framework/bfc_allocator.cc:1103] 1 Chunks of size 4390387712 totalling 4.09GiB\n",
      "2024-03-14 20:12:27.809158: I external/local_tsl/tsl/framework/bfc_allocator.cc:1107] Sum Total of in-use chunks: 8.88GiB\n",
      "2024-03-14 20:12:27.809161: I external/local_tsl/tsl/framework/bfc_allocator.cc:1109] Total bytes in pool: 10530455552 memory_limit_: 10530455552 available bytes: 0 curr_region_allocation_bytes_: 17179869184\n",
      "2024-03-14 20:12:27.809166: I external/local_tsl/tsl/framework/bfc_allocator.cc:1114] Stats: \n",
      "Limit:                     10530455552\n",
      "InUse:                      9539092736\n",
      "MaxInUse:                   9841477888\n",
      "NumAllocs:                      337464\n",
      "MaxAllocSize:               4390387712\n",
      "Reserved:                            0\n",
      "PeakReserved:                        0\n",
      "LargestFreeBlock:                    0\n",
      "\n",
      "2024-03-14 20:12:27.809174: W external/local_tsl/tsl/framework/bfc_allocator.cc:497] ***********************************************_______**********************************************\n"
     ]
    }
   ],
   "source": [
    "pred = tf.nn.softmax(model.predict(X_validation)).numpy()"
   ]
  },
  {
   "cell_type": "code",
   "execution_count": null,
   "id": "7da3d824",
   "metadata": {},
   "outputs": [],
   "source": [
    "pr = X_validation[pred.argmax(axis=1) != y_validation][:9]"
   ]
  },
  {
   "cell_type": "code",
   "execution_count": null,
   "id": "6b6490e8",
   "metadata": {},
   "outputs": [],
   "source": [
    "fig, ax = plt.subplots(3,3)\n",
    "for i in range(3):\n",
    "    for j in range(3):\n",
    "        if i == 0:\n",
    "            ax[i][j].imshow(pr[i * 3 + j], cmap='gray')\n",
    "            ax[i][j].set_title('FRONTAL')\n",
    "        elif i == 1:\n",
    "            ax[i][j].imshow(pr[i * 3 + j], cmap='gray')\n",
    "            ax[i][j].set_title('LATERAL')\n",
    "        else:\n",
    "            ax[i][j].imshow(pr[i * 3 + j], cmap='gray')\n",
    "            ax[i][j].set_title('TRASH')\n",
    "        ax[i][j].set_xticks([])\n",
    "        ax[i][j].set_yticks([])"
   ]
  },
  {
   "cell_type": "code",
   "execution_count": null,
   "id": "ea479b8d",
   "metadata": {},
   "outputs": [],
   "source": [
    "y_train[:100]"
   ]
  },
  {
   "cell_type": "code",
   "execution_count": null,
   "id": "f73a90e0",
   "metadata": {},
   "outputs": [],
   "source": [
    "x = np.round(np.linspace(0, y_train.shape[0], y_train.shape[0]))"
   ]
  },
  {
   "cell_type": "code",
   "execution_count": null,
   "id": "449e7e44",
   "metadata": {},
   "outputs": [],
   "source": [
    "conf = confusion_matrix(model.predict(X_validation), y_validation)"
   ]
  },
  {
   "cell_type": "code",
   "execution_count": null,
   "id": "3fd8365e",
   "metadata": {},
   "outputs": [],
   "source": [
    "help(sklearn.confusiton_matrix)"
   ]
  },
  {
   "cell_type": "code",
   "execution_count": 23,
   "id": "7a22e7dd",
   "metadata": {},
   "outputs": [],
   "source": [
    "model.save_weights('weights_of_the_model_copy1')"
   ]
  },
  {
   "cell_type": "code",
   "execution_count": null,
   "id": "29d8dff2",
   "metadata": {},
   "outputs": [],
   "source": []
  },
  {
   "cell_type": "code",
   "execution_count": null,
   "id": "419c5db5",
   "metadata": {},
   "outputs": [],
   "source": []
  },
  {
   "cell_type": "code",
   "execution_count": null,
   "id": "f80da4c6",
   "metadata": {},
   "outputs": [],
   "source": []
  },
  {
   "cell_type": "code",
   "execution_count": null,
   "id": "e64323c4",
   "metadata": {},
   "outputs": [],
   "source": []
  },
  {
   "cell_type": "code",
   "execution_count": null,
   "id": "811bcc26",
   "metadata": {},
   "outputs": [],
   "source": []
  },
  {
   "cell_type": "code",
   "execution_count": null,
   "id": "6deecb8c",
   "metadata": {},
   "outputs": [],
   "source": []
  },
  {
   "cell_type": "code",
   "execution_count": null,
   "id": "a3891629",
   "metadata": {},
   "outputs": [],
   "source": []
  },
  {
   "cell_type": "code",
   "execution_count": null,
   "id": "c6700a00",
   "metadata": {},
   "outputs": [],
   "source": []
  },
  {
   "cell_type": "code",
   "execution_count": null,
   "id": "576800b3",
   "metadata": {},
   "outputs": [],
   "source": []
  }
 ],
 "metadata": {
  "kernelspec": {
   "display_name": "Python 3 (ipykernel)",
   "language": "python",
   "name": "python3"
  },
  "language_info": {
   "codemirror_mode": {
    "name": "ipython",
    "version": 3
   },
   "file_extension": ".py",
   "mimetype": "text/x-python",
   "name": "python",
   "nbconvert_exporter": "python",
   "pygments_lexer": "ipython3",
   "version": "3.11.5"
  }
 },
 "nbformat": 4,
 "nbformat_minor": 5
}
